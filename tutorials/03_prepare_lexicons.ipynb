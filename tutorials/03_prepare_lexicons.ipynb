{
 "cells": [
  {
   "cell_type": "markdown",
   "metadata": {},
   "source": [
    "# Welcome to ExKaldi\n",
    "\n",
    "In this section, we will prepare various lexicons."
   ]
  },
  {
   "cell_type": "code",
   "execution_count": null,
   "metadata": {},
   "outputs": [],
   "source": [
    "import exkaldi\n",
    "\n",
    "import os\n",
    "dataDir = \"librispeech_dummy\""
   ]
  },
  {
   "cell_type": "markdown",
   "metadata": {},
   "source": [
    "In ExKaldi, most of lexicons are generated automatically when a pronounce file is provided.  \n",
    "You can specify the silence words, and we will give them pronounce symbol same as the word if you provided a list.  \n",
    "You can specify a symbol for OOV, and we will give them pronounce symbol same as the word if you provided a list.  \n",
    "In this tutorials, we only make position independent lexicons."
   ]
  },
  {
   "cell_type": "code",
   "execution_count": null,
   "metadata": {},
   "outputs": [],
   "source": [
    "lexiconFile = os.path.join(dataDir, \"pronunciation.txt\")\n",
    "\n",
    "silWords={\"<SIL>\":\"<SIL>\",  # silence and its' pronunciation\n",
    "          \"<SPN>\":\"<SPN>\"}  # spoken noise and its' pronunciation\n",
    "unkSymbol={\"<UNK>\":\"<SPN>\"}  # unknown symbol and its' pronunciation\n",
    "optionalSilPhone = \"<SIL>\"  # optional silence\n",
    "\n",
    "lexicons = exkaldi.decode.graph.lexicon_bank(lexiconFile,\n",
    "                                             silWords,\n",
    "                                             unkSymbol, \n",
    "                                             optionalSilPhone, \n",
    "                                             positionDependent = False,\n",
    "                                             shareSilPdf = False )\n",
    "\n",
    "lexicons"
   ]
  },
  {
   "cell_type": "markdown",
   "metadata": {},
   "source": [
    "___lexicons___ is an exkaldi __LexiconBank__ object. It is designed to manage all lexicons.  \n",
    "Use __.view__ to show all names of generated lexicons."
   ]
  },
  {
   "cell_type": "code",
   "execution_count": null,
   "metadata": {},
   "outputs": [],
   "source": [
    "lexicons.view"
   ]
  },
  {
   "cell_type": "markdown",
   "metadata": {},
   "source": [
    "You can call a specified lexicon. In particular, if you call \"words\" or \"phones\", it will return an exkaldi __ListTable__ object (a subclass of Pyhton dict)."
   ]
  },
  {
   "cell_type": "code",
   "execution_count": null,
   "metadata": {},
   "outputs": [],
   "source": [
    "lexicons(\"silence_phones\")"
   ]
  },
  {
   "cell_type": "code",
   "execution_count": null,
   "metadata": {},
   "outputs": [],
   "source": [
    "type(lexicons(\"words\"))"
   ]
  },
  {
   "cell_type": "markdown",
   "metadata": {},
   "source": [
    "All lexicons can be dump to file with Kaldi text format. Some lexicons are allowed to be saved in their int value format."
   ]
  },
  {
   "cell_type": "code",
   "execution_count": null,
   "metadata": {},
   "outputs": [],
   "source": [
    "outFile = os.path.join(dataDir, \"exp\", \"words.txt\")\n",
    "\n",
    "exkaldi.utils.make_dependent_dirs(path=outFile, pathIsFile=True)\n",
    "\n",
    "lexicons.dump_dict(name=\"words\", fileName=outFile, dumpInt=False)"
   ]
  },
  {
   "cell_type": "markdown",
   "metadata": {},
   "source": [
    "As memtioned above, Wrod-ID lexicon and Phone-ID lexicon have been made defaultly, you can reset it with your new file."
   ]
  },
  {
   "cell_type": "code",
   "execution_count": null,
   "metadata": {},
   "outputs": [],
   "source": [
    "lexicons(\"phones\")"
   ]
  },
  {
   "cell_type": "code",
   "execution_count": null,
   "metadata": {},
   "outputs": [],
   "source": [
    "# newPhonesFile = \"myPhones.txt\"\n",
    "\n",
    "# lexicons.reset_phones(target=newPhonesFile)"
   ]
  },
  {
   "cell_type": "markdown",
   "metadata": {},
   "source": [
    "After a new lexicon probability generated, you can update the probability of all related lexicons."
   ]
  },
  {
   "cell_type": "code",
   "execution_count": null,
   "metadata": {},
   "outputs": [],
   "source": [
    "# newProbFile = \"newLexiconp.txt\"\n",
    "\n",
    "# lexicons.update_prob(newProbFile)"
   ]
  },
  {
   "cell_type": "markdown",
   "metadata": {},
   "source": [
    "__LexiconBank__ object is very useful in ExKaldi. it will be used in almost all training steps.\n",
    "\n",
    "Now we try to make two Lexicon fsts."
   ]
  },
  {
   "cell_type": "code",
   "execution_count": null,
   "metadata": {},
   "outputs": [],
   "source": [
    "Lfile = os.path.join(dataDir,\"exp\",\"L.fst\")\n",
    "\n",
    "exkaldi.decode.graph.make_L(lexicons, outFile=Lfile, useDisambigLexicon=False)"
   ]
  },
  {
   "cell_type": "code",
   "execution_count": null,
   "metadata": {},
   "outputs": [],
   "source": [
    "Lfile = os.path.join(dataDir,\"exp\",\"L_disambig.fst\")\n",
    "\n",
    "exkaldi.decode.graph.make_L(lexicons, outFile=Lfile, useDisambigLexicon=True)"
   ]
  },
  {
   "cell_type": "markdown",
   "metadata": {},
   "source": [
    "We can save this __LexiconBank__ object to file."
   ]
  },
  {
   "cell_type": "code",
   "execution_count": null,
   "metadata": {},
   "outputs": [],
   "source": [
    "lexFile = os.path.join(dataDir, \"exp\", \"lexicons.lex\")\n",
    "\n",
    "lexicons.save(lexFile)"
   ]
  },
  {
   "cell_type": "markdown",
   "metadata": {},
   "source": [
    "Actually, besides pronunciation __lexicon__ file, __lexiconp__, __lexiconp_disambig__, __lexiconp_silprob__ and __lexiconp_silprob_disambig__ can also be used to initialize the __LexiconBank__ object."
   ]
  },
  {
   "cell_type": "code",
   "execution_count": null,
   "metadata": {},
   "outputs": [],
   "source": []
  }
 ],
 "metadata": {
  "kernelspec": {
   "display_name": "Python 3",
   "language": "python",
   "name": "python3"
  },
  "language_info": {
   "codemirror_mode": {
    "name": "ipython",
    "version": 3
   },
   "file_extension": ".py",
   "mimetype": "text/x-python",
   "name": "python",
   "nbconvert_exporter": "python",
   "pygments_lexer": "ipython3",
   "version": "3.6.9"
  }
 },
 "nbformat": 4,
 "nbformat_minor": 4
}
