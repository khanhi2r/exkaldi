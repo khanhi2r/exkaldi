{
 "cells": [
  {
   "cell_type": "markdown",
   "metadata": {},
   "source": [
    "# Welcome to ExKaldi\n",
    "\n",
    "In this section, we will prepare various lexicons."
   ]
  },
  {
   "cell_type": "code",
   "execution_count": 1,
   "metadata": {},
   "outputs": [
    {
     "name": "stdout",
     "output_type": "stream",
     "text": [
      "Warning: Kaldi root directory was not found in system PATH. You can appoint it:\n",
      "exkaldi.info.reset_kaldi_root( yourPath )\n",
      "If not, ERROR will occur when implementing some core functions.\n"
     ]
    }
   ],
   "source": [
    "import exkaldi\n",
    "exkaldi.info.reset_kaldi_root(\"/home/khanh/workspace/projects/kaldi\")\n",
    "\n",
    "import os\n",
    "dataDir = \"librispeech_dummy\""
   ]
  },
  {
   "cell_type": "markdown",
   "metadata": {},
   "source": [
    "In ExKaldi, most of lexicons are generated automatically when a pronounce file is provided.  \n",
    "You can specify the silence words, and we will give them pronounce symbol same as the word if you provided a list.  \n",
    "You can specify a symbol for OOV, and we will give them pronounce symbol same as the word if you provided a list.  \n",
    "In this tutorials, we only make position independent lexicons."
   ]
  },
  {
   "cell_type": "code",
   "execution_count": 2,
   "metadata": {},
   "outputs": [
    {
     "data": {
      "text/plain": [
       "<exkaldi.decode.graph.LexiconBank at 0x7ff8d3a20d00>"
      ]
     },
     "execution_count": 2,
     "metadata": {},
     "output_type": "execute_result"
    }
   ],
   "source": [
    "lexiconFile = os.path.join(dataDir, \"pronunciation.txt\")\n",
    "\n",
    "silWords={\"<SIL>\":\"<SIL>\",  # silence and its' pronunciation\n",
    "          \"<SPN>\":\"<SPN>\"}  # spoken noise and its' pronunciation\n",
    "unkSymbol={\"<UNK>\":\"<SPN>\"}  # unknown symbol and its' pronunciation\n",
    "optionalSilPhone = \"<SIL>\"  # optional silence\n",
    "\n",
    "lexicons = exkaldi.decode.graph.lexicon_bank(lexiconFile,\n",
    "                                             silWords,\n",
    "                                             unkSymbol, \n",
    "                                             optionalSilPhone, \n",
    "                                             positionDependent = False,\n",
    "                                             shareSilPdf = False )\n",
    "\n",
    "lexicons"
   ]
  },
  {
   "cell_type": "markdown",
   "metadata": {},
   "source": [
    "___lexicons___ is an exkaldi __LexiconBank__ object. It is designed to manage all lexicons.  \n",
    "Use __.view__ to show all names of generated lexicons."
   ]
  },
  {
   "cell_type": "code",
   "execution_count": 3,
   "metadata": {},
   "outputs": [
    {
     "data": {
      "text/plain": [
       "['lexiconp',\n",
       " 'disambig',\n",
       " 'lexiconp_disambig',\n",
       " 'silence_phones',\n",
       " 'optional_silence',\n",
       " 'nonsilence_phones',\n",
       " 'phone_map',\n",
       " 'silence_phone_map',\n",
       " 'nonsilence_phone_map',\n",
       " 'extra_questions',\n",
       " 'silence',\n",
       " 'nonsilence',\n",
       " 'context_indep',\n",
       " 'wdisambig',\n",
       " 'wdisambig_phones',\n",
       " 'wdisambig_words',\n",
       " 'align_lexicon',\n",
       " 'oov',\n",
       " 'sets',\n",
       " 'roots',\n",
       " 'phones',\n",
       " 'words']"
      ]
     },
     "execution_count": 3,
     "metadata": {},
     "output_type": "execute_result"
    }
   ],
   "source": [
    "lexicons.view"
   ]
  },
  {
   "cell_type": "markdown",
   "metadata": {},
   "source": [
    "You can call a specified lexicon. In particular, if you call \"words\" or \"phones\", it will return an exkaldi __ListTable__ object (a subclass of Pyhton dict)."
   ]
  },
  {
   "cell_type": "code",
   "execution_count": 4,
   "metadata": {},
   "outputs": [
    {
     "data": {
      "text/plain": [
       "['<SPN>', '<SIL>']"
      ]
     },
     "execution_count": 4,
     "metadata": {},
     "output_type": "execute_result"
    }
   ],
   "source": [
    "lexicons(\"silence_phones\")"
   ]
  },
  {
   "cell_type": "code",
   "execution_count": 5,
   "metadata": {},
   "outputs": [
    {
     "data": {
      "text/plain": [
       "exkaldi.core.archive.ListTable"
      ]
     },
     "execution_count": 5,
     "metadata": {},
     "output_type": "execute_result"
    }
   ],
   "source": [
    "type(lexicons(\"words\"))"
   ]
  },
  {
   "cell_type": "markdown",
   "metadata": {},
   "source": [
    "All lexicons can be dump to file with Kaldi text format. Some lexicons are allowed to be saved in their int value format."
   ]
  },
  {
   "cell_type": "code",
   "execution_count": 6,
   "metadata": {},
   "outputs": [
    {
     "data": {
      "text/plain": [
       "'librispeech_dummy/exp/words.txt'"
      ]
     },
     "execution_count": 6,
     "metadata": {},
     "output_type": "execute_result"
    }
   ],
   "source": [
    "outFile = os.path.join(dataDir, \"exp\", \"words.txt\")\n",
    "\n",
    "exkaldi.utils.make_dependent_dirs(path=outFile, pathIsFile=True)\n",
    "\n",
    "lexicons.dump_dict(name=\"words\", fileName=outFile, dumpInt=False)"
   ]
  },
  {
   "cell_type": "markdown",
   "metadata": {},
   "source": [
    "As memtioned above, Wrod-ID lexicon and Phone-ID lexicon have been made defaultly, you can reset it with your new file."
   ]
  },
  {
   "cell_type": "code",
   "execution_count": 7,
   "metadata": {},
   "outputs": [
    {
     "data": {
      "text/plain": [
       "{'<eps>': 0,\n",
       " '<SPN>': 1,\n",
       " '<SIL>': 2,\n",
       " 'AA0': 3,\n",
       " 'AA1': 4,\n",
       " 'AA2': 5,\n",
       " 'AE0': 6,\n",
       " 'AE1': 7,\n",
       " 'AE2': 8,\n",
       " 'AH0': 9,\n",
       " 'AH1': 10,\n",
       " 'AH2': 11,\n",
       " 'AO0': 12,\n",
       " 'AO1': 13,\n",
       " 'AO2': 14,\n",
       " 'AW1': 15,\n",
       " 'AW2': 16,\n",
       " 'AY0': 17,\n",
       " 'AY1': 18,\n",
       " 'AY2': 19,\n",
       " 'B': 20,\n",
       " 'CH': 21,\n",
       " 'D': 22,\n",
       " 'DH': 23,\n",
       " 'EH0': 24,\n",
       " 'EH1': 25,\n",
       " 'EH2': 26,\n",
       " 'ER0': 27,\n",
       " 'ER1': 28,\n",
       " 'ER2': 29,\n",
       " 'EY0': 30,\n",
       " 'EY1': 31,\n",
       " 'EY2': 32,\n",
       " 'F': 33,\n",
       " 'G': 34,\n",
       " 'HH': 35,\n",
       " 'IH0': 36,\n",
       " 'IH1': 37,\n",
       " 'IH2': 38,\n",
       " 'IY0': 39,\n",
       " 'IY1': 40,\n",
       " 'IY2': 41,\n",
       " 'JH': 42,\n",
       " 'K': 43,\n",
       " 'L': 44,\n",
       " 'M': 45,\n",
       " 'N': 46,\n",
       " 'NG': 47,\n",
       " 'OW0': 48,\n",
       " 'OW1': 49,\n",
       " 'OW2': 50,\n",
       " 'OY0': 51,\n",
       " 'OY1': 52,\n",
       " 'P': 53,\n",
       " 'R': 54,\n",
       " 'S': 55,\n",
       " 'SH': 56,\n",
       " 'T': 57,\n",
       " 'TH': 58,\n",
       " 'UH0': 59,\n",
       " 'UH1': 60,\n",
       " 'UH2': 61,\n",
       " 'UW0': 62,\n",
       " 'UW1': 63,\n",
       " 'UW2': 64,\n",
       " 'V': 65,\n",
       " 'W': 66,\n",
       " 'Y': 67,\n",
       " 'Z': 68,\n",
       " 'ZH': 69,\n",
       " '#0': 70,\n",
       " '#1': 71,\n",
       " '#2': 72,\n",
       " '#3': 73,\n",
       " '#4': 74}"
      ]
     },
     "execution_count": 7,
     "metadata": {},
     "output_type": "execute_result"
    }
   ],
   "source": [
    "lexicons(\"phones\")"
   ]
  },
  {
   "cell_type": "code",
   "execution_count": 8,
   "metadata": {},
   "outputs": [],
   "source": [
    "# newPhonesFile = \"myPhones.txt\"\n",
    "\n",
    "# lexicons.reset_phones(target=newPhonesFile)"
   ]
  },
  {
   "cell_type": "markdown",
   "metadata": {},
   "source": [
    "After a new lexicon probability generated, you can update the probability of all related lexicons."
   ]
  },
  {
   "cell_type": "code",
   "execution_count": 9,
   "metadata": {},
   "outputs": [],
   "source": [
    "# newProbFile = \"newLexiconp.txt\"\n",
    "\n",
    "# lexicons.update_prob(newProbFile)"
   ]
  },
  {
   "cell_type": "markdown",
   "metadata": {},
   "source": [
    "__LexiconBank__ object is very useful in ExKaldi. it will be used in almost all training steps.\n",
    "\n",
    "Now we try to make two Lexicon fsts."
   ]
  },
  {
   "cell_type": "code",
   "execution_count": 10,
   "metadata": {},
   "outputs": [
    {
     "data": {
      "text/plain": [
       "'/home/khanh/workspace/projects/exkaldi/tutorials/librispeech_dummy/exp/L.fst'"
      ]
     },
     "execution_count": 10,
     "metadata": {},
     "output_type": "execute_result"
    }
   ],
   "source": [
    "Lfile = os.path.join(dataDir,\"exp\",\"L.fst\")\n",
    "\n",
    "exkaldi.decode.graph.make_L(lexicons, outFile=Lfile, useDisambigLexicon=False)"
   ]
  },
  {
   "cell_type": "code",
   "execution_count": 11,
   "metadata": {},
   "outputs": [
    {
     "data": {
      "text/plain": [
       "'/home/khanh/workspace/projects/exkaldi/tutorials/librispeech_dummy/exp/L_disambig.fst'"
      ]
     },
     "execution_count": 11,
     "metadata": {},
     "output_type": "execute_result"
    }
   ],
   "source": [
    "Lfile = os.path.join(dataDir,\"exp\",\"L_disambig.fst\")\n",
    "\n",
    "exkaldi.decode.graph.make_L(lexicons, outFile=Lfile, useDisambigLexicon=True)"
   ]
  },
  {
   "cell_type": "markdown",
   "metadata": {},
   "source": [
    "We can save this __LexiconBank__ object to file."
   ]
  },
  {
   "cell_type": "code",
   "execution_count": 12,
   "metadata": {},
   "outputs": [
    {
     "data": {
      "text/plain": [
       "'librispeech_dummy/exp/lexicons.lex'"
      ]
     },
     "execution_count": 12,
     "metadata": {},
     "output_type": "execute_result"
    }
   ],
   "source": [
    "lexFile = os.path.join(dataDir, \"exp\", \"lexicons.lex\")\n",
    "\n",
    "lexicons.save(lexFile)"
   ]
  },
  {
   "cell_type": "markdown",
   "metadata": {},
   "source": [
    "Actually, besides pronunciation __lexicon__ file, __lexiconp__, __lexiconp_disambig__, __lexiconp_silprob__ and __lexiconp_silprob_disambig__ can also be used to initialize the __LexiconBank__ object."
   ]
  },
  {
   "cell_type": "code",
   "execution_count": null,
   "metadata": {},
   "outputs": [],
   "source": []
  }
 ],
 "metadata": {
  "kernelspec": {
   "display_name": "Python 3 (ipykernel)",
   "language": "python",
   "name": "python3"
  },
  "language_info": {
   "codemirror_mode": {
    "name": "ipython",
    "version": 3
   },
   "file_extension": ".py",
   "mimetype": "text/x-python",
   "name": "python",
   "nbconvert_exporter": "python",
   "pygments_lexer": "ipython3",
   "version": "3.9.10"
  }
 },
 "nbformat": 4,
 "nbformat_minor": 4
}
