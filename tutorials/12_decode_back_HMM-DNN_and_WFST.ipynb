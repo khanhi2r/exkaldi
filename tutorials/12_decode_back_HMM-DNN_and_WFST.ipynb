{
 "cells": [
  {
   "cell_type": "markdown",
   "metadata": {},
   "source": [
    "# Welcome to ExKaldi\n",
    "\n",
    "In this section, we will decode the test data based on HMM-DNN model and WFST graph."
   ]
  },
  {
   "cell_type": "code",
   "execution_count": 1,
   "metadata": {},
   "outputs": [
    {
     "name": "stdout",
     "output_type": "stream",
     "text": [
      "Warning: Kaldi root directory was not found in system PATH. You can appoint it:\n",
      "exkaldi.info.reset_kaldi_root( yourPath )\n",
      "If not, ERROR will occur when implementing some core functions.\n"
     ]
    }
   ],
   "source": [
    "CONDA_DIR = \"/home/khanh/workspace/miniconda3\"\n",
    "KALDI_ENV = \"kaldi\"\n",
    "EXKALDI_ENV = \"exkaldi\"\n",
    "KALDI_ROOT = \"/home/khanh/workspace/projects/kaldi\"\n",
    "\n",
    "DATA_DIR = \"librispeech_dummy\"\n",
    "\n",
    "def import_exkaldi():\n",
    "    import os\n",
    "\n",
    "    # add lib path\n",
    "    os.environ[\"LD_LIBRARY_PATH\"] = \";\".join([\n",
    "        os.path.join(CONDA_DIR, \"envs\", KALDI_ENV, \"lib\"),\n",
    "        os.path.join(CONDA_DIR, \"envs\", EXKALDI_ENV, \"lib\"),\n",
    "    ])\n",
    "\n",
    "    import exkaldi\n",
    "    exkaldi.info.reset_kaldi_root(KALDI_ROOT)\n",
    "\n",
    "    return exkaldi\n",
    "exkaldi = import_exkaldi()\n",
    "dataDir = \"librispeech_dummy\"\n",
    "\n",
    "import os"
   ]
  },
  {
   "cell_type": "markdown",
   "metadata": {},
   "source": [
    "Restorage the posteiori probability of AM from file (generated in 11_train_DNN_acoustic_model_with_tensorflow)."
   ]
  },
  {
   "cell_type": "code",
   "execution_count": 2,
   "metadata": {},
   "outputs": [
    {
     "data": {
      "text/plain": [
       "<exkaldi.core.archive.NumpyProb at 0x7fbf3877bd30>"
      ]
     },
     "execution_count": 2,
     "metadata": {},
     "output_type": "execute_result"
    }
   ],
   "source": [
    "probFile = os.path.join(dataDir, \"exp\", \"train_DNN\", \"amp.npy\")\n",
    "\n",
    "prob = exkaldi.load_prob(probFile)\n",
    "\n",
    "prob"
   ]
  },
  {
   "cell_type": "code",
   "execution_count": 3,
   "metadata": {},
   "outputs": [
    {
     "data": {
      "text/plain": [
       "{'1272-128104-0000': array([[ 9.464016  , -2.0549624 , -0.79543144, ...,  3.4590974 ,\n",
       "         -4.529152  ,  4.7647963 ],\n",
       "        [ 9.37714   , -1.2627714 , -0.8936229 , ...,  3.8034425 ,\n",
       "         -3.8769655 ,  4.1946864 ],\n",
       "        [10.027403  , -0.81561977, -0.88878584, ...,  3.2106102 ,\n",
       "         -3.2808084 ,  3.7135477 ],\n",
       "        ...,\n",
       "        [10.073996  , -1.0323883 , -0.8198512 , ...,  1.5600028 ,\n",
       "         -1.2490301 ,  5.2349787 ],\n",
       "        [10.578005  , -2.0080304 , -0.48259932, ...,  1.3785863 ,\n",
       "         -0.68345255,  4.589739  ],\n",
       "        [10.7762165 , -2.7672167 , -0.40990275, ...,  0.7246169 ,\n",
       "         -1.2750771 ,  3.3913956 ]], dtype=float32)}"
      ]
     },
     "execution_count": 3,
     "metadata": {},
     "output_type": "execute_result"
    }
   ],
   "source": [
    "prob.subset(nHead=1).data"
   ]
  },
  {
   "cell_type": "markdown",
   "metadata": {},
   "source": [
    "As above, this is naive output without log softmax activation function. We need do softmax.\n",
    "\n",
    "Exkaldi Numpy achivements have a method __.map(...)__ . We map a softmax function to all matrixs."
   ]
  },
  {
   "cell_type": "code",
   "execution_count": 4,
   "metadata": {},
   "outputs": [
    {
     "data": {
      "text/plain": [
       "{'1272-128104-0000': array([[ -3.0525103, -14.571488 , -13.311957 , ...,  -9.057428 ,\n",
       "         -17.045677 ,  -7.75173  ],\n",
       "        [ -2.7164993, -13.356411 , -12.987263 , ...,  -8.290197 ,\n",
       "         -15.970605 ,  -7.898953 ],\n",
       "        [ -2.2598648, -13.102887 , -13.176054 , ...,  -9.076657 ,\n",
       "         -15.568076 ,  -8.57372  ],\n",
       "        ...,\n",
       "        [ -1.4313774, -12.537762 , -12.325224 , ...,  -9.94537  ,\n",
       "         -12.754403 ,  -6.2703943],\n",
       "        [ -1.9326248, -14.51866  , -12.993229 , ..., -11.132044 ,\n",
       "         -13.194082 ,  -7.920891 ],\n",
       "        [ -1.8406677, -15.384101 , -13.026787 , ..., -11.892267 ,\n",
       "         -13.891961 ,  -9.225489 ]], dtype=float32)}"
      ]
     },
     "execution_count": 4,
     "metadata": {},
     "output_type": "execute_result"
    }
   ],
   "source": [
    "prob = prob.map( lambda x: exkaldi.nn.log_softmax(x, axis=1) )\n",
    "\n",
    "prob.subset(nHead=1).data"
   ]
  },
  {
   "cell_type": "markdown",
   "metadata": {},
   "source": [
    "Then decode based on WFST. HCLG graph file and HMM model file have been generated (07_train_triphone_HMM-GMM_delta)."
   ]
  },
  {
   "cell_type": "code",
   "execution_count": 5,
   "metadata": {},
   "outputs": [],
   "source": [
    "HCLGFile = os.path.join(dataDir, \"exp\", \"train_delta\", \"graph\", \"HCLG.fst\")\n",
    "\n",
    "hmmFile = os.path.join(dataDir, \"exp\", \"train_delta\", \"final.mdl\")"
   ]
  },
  {
   "cell_type": "markdown",
   "metadata": {},
   "source": [
    "And for convenience, prepare lexicons."
   ]
  },
  {
   "cell_type": "code",
   "execution_count": 6,
   "metadata": {},
   "outputs": [
    {
     "data": {
      "text/plain": [
       "<exkaldi.decode.graph.LexiconBank at 0x7fbf38734b80>"
      ]
     },
     "execution_count": 6,
     "metadata": {},
     "output_type": "execute_result"
    }
   ],
   "source": [
    "lexFile = os.path.join(dataDir, \"exp\", \"lexicons.lex\")\n",
    "\n",
    "lexicons = exkaldi.decode.graph.load_lex(lexFile)\n",
    "\n",
    "lexicons"
   ]
  },
  {
   "cell_type": "markdown",
   "metadata": {},
   "source": [
    "Use __nn_decode__ function. "
   ]
  },
  {
   "cell_type": "code",
   "execution_count": 7,
   "metadata": {},
   "outputs": [
    {
     "data": {
      "text/plain": [
       "<exkaldi.decode.wfst.Lattice at 0x7fbf18b96040>"
      ]
     },
     "execution_count": 7,
     "metadata": {},
     "output_type": "execute_result"
    }
   ],
   "source": [
    "lat = exkaldi.decode.wfst.nn_decode(prob, hmmFile, HCLGFile, symbolTable=lexicons(\"words\"))\n",
    "\n",
    "lat"
   ]
  },
  {
   "cell_type": "code",
   "execution_count": 8,
   "metadata": {},
   "outputs": [
    {
     "data": {
      "text/plain": [
       "'librispeech_dummy/exp/train_DNN/decode_test/test.lat'"
      ]
     },
     "execution_count": 8,
     "metadata": {},
     "output_type": "execute_result"
    }
   ],
   "source": [
    "outDir = os.path.join(dataDir, \"exp\", \"train_DNN\", \"decode_test\")\n",
    "\n",
    "exkaldi.utils.make_dependent_dirs(outDir, False)\n",
    "\n",
    "lat.save( os.path.join(outDir,\"test.lat\") )"
   ]
  },
  {
   "cell_type": "markdown",
   "metadata": {},
   "source": [
    "From lattice get 1-best result and score it."
   ]
  },
  {
   "cell_type": "code",
   "execution_count": 9,
   "metadata": {},
   "outputs": [
    {
     "name": "stdout",
     "output_type": "stream",
     "text": [
      "Penalty 0.0, LMWT 10: WER 108.83\n",
      "Penalty 0.0, LMWT 11: WER 108.83\n",
      "Penalty 0.0, LMWT 12: WER 108.83\n",
      "Penalty 0.0, LMWT 13: WER 108.83\n",
      "Penalty 0.0, LMWT 14: WER 108.83\n",
      "Penalty 0.5, LMWT 10: WER 108.83\n",
      "Penalty 0.5, LMWT 11: WER 108.83\n",
      "Penalty 0.5, LMWT 12: WER 108.83\n",
      "Penalty 0.5, LMWT 13: WER 108.83\n",
      "Penalty 0.5, LMWT 14: WER 108.83\n",
      "Penalty 1.0, LMWT 10: WER 108.35\n",
      "Penalty 1.0, LMWT 11: WER 108.35\n",
      "Penalty 1.0, LMWT 12: WER 108.35\n",
      "Penalty 1.0, LMWT 13: WER 108.35\n",
      "Penalty 1.0, LMWT 14: WER 108.35\n"
     ]
    }
   ],
   "source": [
    "refIntFile = os.path.join(dataDir, \"exp\", \"train_delta\", \"decode_test\", \"text.int\")\n",
    "\n",
    "for penalty in [0., 0.5, 1.0]:\n",
    "    for LMWT in range(10, 15):\n",
    "    \n",
    "        newLat = lat.add_penalty(penalty)\n",
    "        result = newLat.get_1best(lexicons(\"words\"), hmmFile, lmwt=LMWT, acwt=0.5)\n",
    "\n",
    "        score = exkaldi.decode.score.wer(ref=refIntFile, hyp=result, mode=\"present\")\n",
    "        \n",
    "        print(f\"Penalty {penalty}, LMWT {LMWT}: WER {score.WER}\")"
   ]
  },
  {
   "cell_type": "markdown",
   "metadata": {},
   "source": [
    "In step 10_process_lattice_and_score, the best WER based on HMM-GMM model is about 135% and here is 107% in our experiment. So it is a truth that the performance of HMM-DNN got better."
   ]
  },
  {
   "cell_type": "markdown",
   "metadata": {},
   "source": [
    "Up to here, the simple tutorial is over."
   ]
  }
 ],
 "metadata": {
  "kernelspec": {
   "display_name": "Python 3 (ipykernel)",
   "language": "python",
   "name": "python3"
  },
  "language_info": {
   "codemirror_mode": {
    "name": "ipython",
    "version": 3
   },
   "file_extension": ".py",
   "mimetype": "text/x-python",
   "name": "python",
   "nbconvert_exporter": "python",
   "pygments_lexer": "ipython3",
   "version": "3.9.13"
  }
 },
 "nbformat": 4,
 "nbformat_minor": 4
}
