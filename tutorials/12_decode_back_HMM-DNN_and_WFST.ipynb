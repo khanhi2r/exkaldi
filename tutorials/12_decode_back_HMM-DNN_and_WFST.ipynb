{
 "cells": [
  {
   "cell_type": "markdown",
   "metadata": {},
   "source": [
    "# Welcome to ExKaldi\n",
    "\n",
    "In this section, we will decode the test data based on HMM-DNN model and WFST graph."
   ]
  },
  {
   "cell_type": "code",
   "execution_count": 1,
   "metadata": {},
   "outputs": [
    {
     "name": "stdout",
     "output_type": "stream",
     "text": [
      "Warning: Kaldi root directory was not found in system PATH. You can appoint it:\n",
      "exkaldi.info.reset_kaldi_root( yourPath )\n",
      "If not, ERROR will occur when implementing some core functions.\n"
     ]
    }
   ],
   "source": [
    "import os\n",
    "dataDir = \"librispeech_dummy\"\n",
    "\n",
    "os.environ[\"LD_LIBRARY_PATH\"] = \"/home/khanh/workspace/miniconda3/envs/kaldi/lib/;/home/khanh/workspace/miniconda3/envs/test/lib/\"\n",
    "\n",
    "import exkaldi\n",
    "exkaldi.info.reset_kaldi_root(\"/home/khanh/workspace/projects/kaldi\")"
   ]
  },
  {
   "cell_type": "markdown",
   "metadata": {},
   "source": [
    "Restorage the posteiori probability of AM from file (generated in 11_train_DNN_acoustic_model_with_tensorflow)."
   ]
  },
  {
   "cell_type": "code",
   "execution_count": 2,
   "metadata": {},
   "outputs": [
    {
     "data": {
      "text/plain": [
       "<exkaldi.core.archive.NumpyProb at 0x7febdcc496d0>"
      ]
     },
     "execution_count": 2,
     "metadata": {},
     "output_type": "execute_result"
    }
   ],
   "source": [
    "probFile = os.path.join(dataDir, \"exp\", \"train_DNN\", \"amp.npy\")\n",
    "\n",
    "prob = exkaldi.load_prob(probFile)\n",
    "\n",
    "prob"
   ]
  },
  {
   "cell_type": "code",
   "execution_count": 3,
   "metadata": {},
   "outputs": [
    {
     "data": {
      "text/plain": [
       "{'1272-128104-0000': array([[-3.316089  ,  9.444235  , -1.2055417 , ..., -1.5940963 ,\n",
       "         -1.4743445 ,  4.3728447 ],\n",
       "        [-2.947546  ,  9.233662  , -1.4251244 , ..., -1.2616441 ,\n",
       "         -0.6829376 ,  3.4242752 ],\n",
       "        [-3.9679208 , 10.093671  , -1.6254816 , ..., -1.0757825 ,\n",
       "         -1.0036131 ,  2.437086  ],\n",
       "        ...,\n",
       "        [-3.5702353 , 10.735809  , -1.5427482 , ..., -0.08101523,\n",
       "          1.3123363 ,  4.8648405 ],\n",
       "        [-4.2810836 , 11.132116  , -1.5070189 , ...,  0.84956515,\n",
       "          1.4962223 ,  4.3466806 ],\n",
       "        [-4.9594646 , 11.140017  , -1.9769467 , ...,  1.0206281 ,\n",
       "          1.0107785 ,  3.685708  ]], dtype=float32)}"
      ]
     },
     "execution_count": 3,
     "metadata": {},
     "output_type": "execute_result"
    }
   ],
   "source": [
    "prob.subset(nHead=1).data"
   ]
  },
  {
   "cell_type": "markdown",
   "metadata": {},
   "source": [
    "As above, this is naive output without log softmax activation function. We need do softmax.\n",
    "\n",
    "Exkaldi Numpy achivements have a method __.map(...)__ . We map a softmax function to all matrixs."
   ]
  },
  {
   "cell_type": "code",
   "execution_count": 4,
   "metadata": {},
   "outputs": [
    {
     "data": {
      "text/plain": [
       "{'1272-128104-0000': array([[-14.927118 ,  -2.1667948, -12.816571 , ..., -13.205126 ,\n",
       "         -13.085374 ,  -7.238185 ],\n",
       "        [-14.330314 ,  -2.149106 , -12.807892 , ..., -12.644412 ,\n",
       "         -12.065705 ,  -7.9584923],\n",
       "        [-16.05725  ,  -1.995657 , -13.714809 , ..., -13.165111 ,\n",
       "         -13.092941 ,  -9.652242 ],\n",
       "        ...,\n",
       "        [-15.551076 ,  -1.2450314, -13.523589 , ..., -12.061856 ,\n",
       "         -10.668505 ,  -7.116    ],\n",
       "        [-16.484016 ,  -1.070816 , -13.709951 , ..., -11.353367 ,\n",
       "         -10.70671  ,  -7.8562517],\n",
       "        [-17.505625 ,  -1.4061432, -14.523107 , ..., -11.525532 ,\n",
       "         -11.535381 ,  -8.860452 ]], dtype=float32)}"
      ]
     },
     "execution_count": 4,
     "metadata": {},
     "output_type": "execute_result"
    }
   ],
   "source": [
    "prob = prob.map( lambda x: exkaldi.nn.log_softmax(x, axis=1) )\n",
    "\n",
    "prob.subset(nHead=1).data"
   ]
  },
  {
   "cell_type": "markdown",
   "metadata": {},
   "source": [
    "Then decode based on WFST. HCLG graph file and HMM model file have been generated (07_train_triphone_HMM-GMM_delta)."
   ]
  },
  {
   "cell_type": "code",
   "execution_count": 5,
   "metadata": {},
   "outputs": [],
   "source": [
    "HCLGFile = os.path.join(dataDir, \"exp\", \"train_delta\", \"graph\", \"HCLG.fst\")\n",
    "\n",
    "hmmFile = os.path.join(dataDir, \"exp\", \"train_delta\", \"final.mdl\")"
   ]
  },
  {
   "cell_type": "markdown",
   "metadata": {},
   "source": [
    "And for convenience, prepare lexicons."
   ]
  },
  {
   "cell_type": "code",
   "execution_count": 6,
   "metadata": {},
   "outputs": [
    {
     "data": {
      "text/plain": [
       "<exkaldi.decode.graph.LexiconBank at 0x7febdcc495e0>"
      ]
     },
     "execution_count": 6,
     "metadata": {},
     "output_type": "execute_result"
    }
   ],
   "source": [
    "lexFile = os.path.join(dataDir, \"exp\", \"lexicons.lex\")\n",
    "\n",
    "lexicons = exkaldi.decode.graph.load_lex(lexFile)\n",
    "\n",
    "lexicons"
   ]
  },
  {
   "cell_type": "markdown",
   "metadata": {},
   "source": [
    "Use __nn_decode__ function. "
   ]
  },
  {
   "cell_type": "code",
   "execution_count": 7,
   "metadata": {},
   "outputs": [
    {
     "data": {
      "text/plain": [
       "<exkaldi.decode.wfst.Lattice at 0x7febc5f5c3a0>"
      ]
     },
     "execution_count": 7,
     "metadata": {},
     "output_type": "execute_result"
    }
   ],
   "source": [
    "lat = exkaldi.decode.wfst.nn_decode(prob, hmmFile, HCLGFile, symbolTable=lexicons(\"words\"))\n",
    "\n",
    "lat"
   ]
  },
  {
   "cell_type": "code",
   "execution_count": 8,
   "metadata": {},
   "outputs": [
    {
     "data": {
      "text/plain": [
       "'librispeech_dummy/exp/train_DNN/decode_test/test.lat'"
      ]
     },
     "execution_count": 8,
     "metadata": {},
     "output_type": "execute_result"
    }
   ],
   "source": [
    "outDir = os.path.join(dataDir, \"exp\", \"train_DNN\", \"decode_test\")\n",
    "\n",
    "exkaldi.utils.make_dependent_dirs(outDir, False)\n",
    "\n",
    "lat.save( os.path.join(outDir,\"test.lat\") )"
   ]
  },
  {
   "cell_type": "markdown",
   "metadata": {},
   "source": [
    "From lattice get 1-best result and score it."
   ]
  },
  {
   "cell_type": "code",
   "execution_count": 9,
   "metadata": {},
   "outputs": [
    {
     "name": "stdout",
     "output_type": "stream",
     "text": [
      "Penalty 0.0, LMWT 10: WER 110.98\n",
      "Penalty 0.0, LMWT 11: WER 110.98\n",
      "Penalty 0.0, LMWT 12: WER 110.98\n",
      "Penalty 0.0, LMWT 13: WER 110.98\n",
      "Penalty 0.0, LMWT 14: WER 110.98\n",
      "Penalty 0.5, LMWT 10: WER 110.98\n",
      "Penalty 0.5, LMWT 11: WER 110.98\n",
      "Penalty 0.5, LMWT 12: WER 110.98\n",
      "Penalty 0.5, LMWT 13: WER 110.98\n",
      "Penalty 0.5, LMWT 14: WER 110.98\n",
      "Penalty 1.0, LMWT 10: WER 110.98\n",
      "Penalty 1.0, LMWT 11: WER 110.98\n",
      "Penalty 1.0, LMWT 12: WER 110.98\n",
      "Penalty 1.0, LMWT 13: WER 110.98\n",
      "Penalty 1.0, LMWT 14: WER 110.98\n"
     ]
    }
   ],
   "source": [
    "refIntFile = os.path.join(dataDir, \"exp\", \"train_delta\", \"decode_test\", \"text.int\")\n",
    "\n",
    "for penalty in [0., 0.5, 1.0]:\n",
    "    for LMWT in range(10, 15):\n",
    "    \n",
    "        newLat = lat.add_penalty(penalty)\n",
    "        result = newLat.get_1best(lexicons(\"words\"), hmmFile, lmwt=LMWT, acwt=0.5)\n",
    "\n",
    "        score = exkaldi.decode.score.wer(ref=refIntFile, hyp=result, mode=\"present\")\n",
    "        \n",
    "        print(f\"Penalty {penalty}, LMWT {LMWT}: WER {score.WER}\")"
   ]
  },
  {
   "cell_type": "markdown",
   "metadata": {},
   "source": [
    "In step 10_process_lattice_and_score, the best WER based on HMM-GMM model is about 135% and here is 107% in our experiment. So it is a truth that the performance of HMM-DNN got better."
   ]
  },
  {
   "cell_type": "markdown",
   "metadata": {},
   "source": [
    "Up to here, the simple tutorial is over."
   ]
  }
 ],
 "metadata": {
  "kernelspec": {
   "display_name": "Python 3 (ipykernel)",
   "language": "python",
   "name": "python3"
  },
  "language_info": {
   "codemirror_mode": {
    "name": "ipython",
    "version": 3
   },
   "file_extension": ".py",
   "mimetype": "text/x-python",
   "name": "python",
   "nbconvert_exporter": "python",
   "pygments_lexer": "ipython3",
   "version": "3.9.10"
  }
 },
 "nbformat": 4,
 "nbformat_minor": 4
}
