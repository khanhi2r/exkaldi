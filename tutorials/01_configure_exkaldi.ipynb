{
 "cells": [
  {
   "cell_type": "markdown",
   "metadata": {},
   "source": [
    "# Welcome to ExKaldi.\n",
    "\n",
    "In this section, we will introduce some configurations of Exkaldi.\n",
    "\n",
    "Import exkaldi package. We allow that __Kaldi__ has not been installed temporarily, but error will be raised when you use some core functions. "
   ]
  },
  {
   "cell_type": "code",
   "execution_count": 1,
   "metadata": {},
   "outputs": [
    {
     "name": "stdout",
     "output_type": "stream",
     "text": [
      "Warning: Kaldi root directory was not found in system PATH. You can appoint it:\n",
      "exkaldi.info.reset_kaldi_root( yourPath )\n",
      "If not, ERROR will occur when implementing some core functions.\n"
     ]
    }
   ],
   "source": [
    "import exkaldi\n",
    "exkaldi.info.reset_kaldi_root(\"/home/khanh/workspace/projects/kaldi\")\n",
    "\n",
    "import os"
   ]
  },
  {
   "cell_type": "markdown",
   "metadata": {},
   "source": [
    "When import exkaldi package, it will be config automatically.\n",
    "\n",
    "Look the version information."
   ]
  },
  {
   "cell_type": "code",
   "execution_count": 2,
   "metadata": {},
   "outputs": [
    {
     "data": {
      "text/plain": [
       "ExKaldiInfo(version='1.3.5.4', major='1', minor='3', patch='5', upload='4')"
      ]
     },
     "execution_count": 2,
     "metadata": {},
     "output_type": "execute_result"
    }
   ],
   "source": [
    "ExKaldiInfo = exkaldi.info\n",
    "\n",
    "ExKaldiInfo"
   ]
  },
  {
   "cell_type": "markdown",
   "metadata": {},
   "source": [
    "__exkaldi.info__ carries various configurations of ExKaldi. For example, if __Kaldi__ has existed, it will automatically look for the version number of Kaldi in \".version\" file in __Kaldi__ root path. You can get the Kaldi version."
   ]
  },
  {
   "cell_type": "code",
   "execution_count": 3,
   "metadata": {},
   "outputs": [
    {
     "data": {
      "text/plain": [
       "Kaldi(version='5.5', major='5', minor='5')"
      ]
     },
     "execution_count": 3,
     "metadata": {},
     "output_type": "execute_result"
    }
   ],
   "source": [
    "ExKaldiInfo.KALDI"
   ]
  },
  {
   "cell_type": "markdown",
   "metadata": {},
   "source": [
    "If __Kaldi__ root directory has not been appended to system PATH, you can call it."
   ]
  },
  {
   "cell_type": "code",
   "execution_count": 4,
   "metadata": {},
   "outputs": [
    {
     "data": {
      "text/plain": [
       "'/home/khanh/workspace/projects/kaldi'"
      ]
     },
     "execution_count": 4,
     "metadata": {},
     "output_type": "execute_result"
    }
   ],
   "source": [
    "ExKaldiInfo.KALDI_ROOT"
   ]
  },
  {
   "cell_type": "markdown",
   "metadata": {},
   "source": [
    "If you want to get the environment where Exkaldi are running:"
   ]
  },
  {
   "cell_type": "code",
   "execution_count": 5,
   "metadata": {},
   "outputs": [
    {
     "data": {
      "text/plain": [
       "{'SHELL': '/bin/bash',\n",
       " 'CONDA_EXE': '/home/khanh/workspace/miniconda3/bin/conda',\n",
       " '_CE_M': '',\n",
       " 'TMUX': '/tmp//tmux-1004/default,7210,9',\n",
       " 'PWD': '/home/khanh/workspace',\n",
       " 'LOGNAME': 'khanh',\n",
       " 'XDG_SESSION_TYPE': 'tty',\n",
       " 'CONDA_PREFIX': '/home/khanh/workspace/miniconda3/envs/test',\n",
       " 'MOTD_SHOWN': 'pam',\n",
       " 'HOME': '/home/khanh',\n",
       " 'LANG': 'en_US.UTF-8',\n",
       " 'LS_COLORS': 'rs=0:di=01;34:ln=01;36:mh=00:pi=40;33:so=01;35:do=01;35:bd=40;33;01:cd=40;33;01:or=40;31;01:mi=00:su=37;41:sg=30;43:ca=30;41:tw=30;42:ow=34;42:st=37;44:ex=01;32:*.tar=01;31:*.tgz=01;31:*.arc=01;31:*.arj=01;31:*.taz=01;31:*.lha=01;31:*.lz4=01;31:*.lzh=01;31:*.lzma=01;31:*.tlz=01;31:*.txz=01;31:*.tzo=01;31:*.t7z=01;31:*.zip=01;31:*.z=01;31:*.dz=01;31:*.gz=01;31:*.lrz=01;31:*.lz=01;31:*.lzo=01;31:*.xz=01;31:*.zst=01;31:*.tzst=01;31:*.bz2=01;31:*.bz=01;31:*.tbz=01;31:*.tbz2=01;31:*.tz=01;31:*.deb=01;31:*.rpm=01;31:*.jar=01;31:*.war=01;31:*.ear=01;31:*.sar=01;31:*.rar=01;31:*.alz=01;31:*.ace=01;31:*.zoo=01;31:*.cpio=01;31:*.7z=01;31:*.rz=01;31:*.cab=01;31:*.wim=01;31:*.swm=01;31:*.dwm=01;31:*.esd=01;31:*.jpg=01;35:*.jpeg=01;35:*.mjpg=01;35:*.mjpeg=01;35:*.gif=01;35:*.bmp=01;35:*.pbm=01;35:*.pgm=01;35:*.ppm=01;35:*.tga=01;35:*.xbm=01;35:*.xpm=01;35:*.tif=01;35:*.tiff=01;35:*.png=01;35:*.svg=01;35:*.svgz=01;35:*.mng=01;35:*.pcx=01;35:*.mov=01;35:*.mpg=01;35:*.mpeg=01;35:*.m2v=01;35:*.mkv=01;35:*.webm=01;35:*.ogm=01;35:*.mp4=01;35:*.m4v=01;35:*.mp4v=01;35:*.vob=01;35:*.qt=01;35:*.nuv=01;35:*.wmv=01;35:*.asf=01;35:*.rm=01;35:*.rmvb=01;35:*.flc=01;35:*.avi=01;35:*.fli=01;35:*.flv=01;35:*.gl=01;35:*.dl=01;35:*.xcf=01;35:*.xwd=01;35:*.yuv=01;35:*.cgm=01;35:*.emf=01;35:*.ogv=01;35:*.ogx=01;35:*.aac=00;36:*.au=00;36:*.flac=00;36:*.m4a=00;36:*.mid=00;36:*.midi=00;36:*.mka=00;36:*.mp3=00;36:*.mpc=00;36:*.ogg=00;36:*.ra=00;36:*.wav=00;36:*.oga=00;36:*.opus=00;36:*.spx=00;36:*.xspf=00;36:',\n",
       " 'CONDA_PROMPT_MODIFIER': '(test) ',\n",
       " 'SSH_CONNECTION': '10.10.198.238 62861 10.2.56.142 22',\n",
       " 'LESSCLOSE': '/usr/bin/lesspipe %s %s',\n",
       " 'XDG_SESSION_CLASS': 'user',\n",
       " 'TERM': 'xterm-color',\n",
       " '_CE_CONDA': '',\n",
       " 'LESSOPEN': '| /usr/bin/lesspipe %s',\n",
       " 'USER': 'khanh',\n",
       " 'TMUX_PANE': '%9',\n",
       " 'CONDA_SHLVL': '3',\n",
       " 'SHLVL': '2',\n",
       " 'XDG_SESSION_ID': '13',\n",
       " 'CONDA_PYTHON_EXE': '/home/khanh/workspace/miniconda3/bin/python',\n",
       " 'XDG_RUNTIME_DIR': '/run/user/1004',\n",
       " 'SSH_CLIENT': '10.10.198.238 62861 22',\n",
       " 'CONDA_DEFAULT_ENV': 'test',\n",
       " 'CUDA_HOME': '/usr/local/cuda',\n",
       " 'PATH': '/home/khanh/.local/bin:/home/khanh/workspace/miniconda3/envs/test/bin:/usr/local/sbin:/usr/local/bin:/usr/sbin:/usr/bin:/sbin:/bin:/usr/games:/usr/local/games:/snap/bin:/usr/local/cuda/bin:/home/khanh/workspace/projects/neofetch:/home/khanh/workspace/projects/kaldi/src/bin:/home/khanh/workspace/projects/kaldi/tools/openfst:/home/khanh/workspace/projects/kaldi/tools/openfst/bin:/home/khanh/workspace/projects/kaldi/src/featbin:/home/khanh/workspace/projects/kaldi/src/GAMbian:/home/khanh/workspace/projects/kaldi/src/nnetbin:/home/khanh/workspace/projects/kaldi/src/lmbin:/home/khanh/workspace/projects/kaldi/src/fstbin:/home/khanh/workspace/projects/kaldi/src/latbin:/home/khanh/workspace/projects/kaldi/src/gmmbin',\n",
       " 'DBUS_SESSION_BUS_ADDRESS': 'unix:path=/run/user/1004/bus',\n",
       " 'SSH_TTY': '/dev/pts/0',\n",
       " 'CONDA_PREFIX_1': '/home/khanh/workspace/mambaforge',\n",
       " 'CONDA_PREFIX_2': '/home/khanh/workspace/miniconda3',\n",
       " 'OLDPWD': '/home/khanh/workspace/projects',\n",
       " '_': '/home/khanh/.local/bin/jupyter',\n",
       " 'JPY_PARENT_PID': '440457',\n",
       " 'CLICOLOR': '1',\n",
       " 'PAGER': 'cat',\n",
       " 'GIT_PAGER': 'cat',\n",
       " 'MPLBACKEND': 'module://ipykernel.pylab.backend_inline'}"
      ]
     },
     "execution_count": 5,
     "metadata": {},
     "output_type": "execute_result"
    }
   ],
   "source": [
    "env = ExKaldiInfo.ENV\n",
    "\n",
    "env"
   ]
  },
  {
   "cell_type": "markdown",
   "metadata": {},
   "source": [
    "If you want add a new path to the environment PATH:"
   ]
  },
  {
   "cell_type": "code",
   "execution_count": 6,
   "metadata": {
    "scrolled": true
   },
   "outputs": [
    {
     "data": {
      "text/plain": [
       "'/home/khanh/.local/bin:/home/khanh/workspace/miniconda3/envs/test/bin:/usr/local/sbin:/usr/local/bin:/usr/sbin:/usr/bin:/sbin:/bin:/usr/games:/usr/local/games:/snap/bin:/usr/local/cuda/bin:/home/khanh/workspace/projects/neofetch:/home/khanh/workspace/projects/kaldi/src/bin:/home/khanh/workspace/projects/kaldi/tools/openfst:/home/khanh/workspace/projects/kaldi/tools/openfst/bin:/home/khanh/workspace/projects/kaldi/src/featbin:/home/khanh/workspace/projects/kaldi/src/GAMbian:/home/khanh/workspace/projects/kaldi/src/nnetbin:/home/khanh/workspace/projects/kaldi/src/lmbin:/home/khanh/workspace/projects/kaldi/src/fstbin:/home/khanh/workspace/projects/kaldi/src/latbin:/home/khanh/workspace/projects/kaldi/src/gmmbin:/home/khanh/workspace/projects/exkaldi/tutorials'"
      ]
     },
     "execution_count": 6,
     "metadata": {},
     "output_type": "execute_result"
    }
   ],
   "source": [
    "newPath = os.path.abspath(\"./\")\n",
    "\n",
    "ExKaldiInfo.export_path(newPath)\n",
    "\n",
    "ExKaldiInfo.ENV[\"PATH\"]"
   ]
  },
  {
   "cell_type": "markdown",
   "metadata": {},
   "source": [
    "If needed, you can appoint another __Kaldi__ root path.\n",
    "\n",
    "This operation will also change the environment."
   ]
  },
  {
   "cell_type": "code",
   "execution_count": 7,
   "metadata": {},
   "outputs": [
    {
     "name": "stdout",
     "output_type": "stream",
     "text": [
      "/home/khanh/workspace/projects/kaldi\n",
      "/home/khanh/.local/bin:/home/khanh/workspace/miniconda3/envs/test/bin:/usr/local/sbin:/usr/local/bin:/usr/sbin:/usr/bin:/sbin:/bin:/usr/games:/usr/local/games:/snap/bin:/usr/local/cuda/bin:/home/khanh/workspace/projects/neofetch:/home/khanh/workspace/projects/kaldi/src/bin:/home/khanh/workspace/projects/kaldi/tools/openfst:/home/khanh/workspace/projects/kaldi/tools/openfst/bin:/home/khanh/workspace/projects/kaldi/src/featbin:/home/khanh/workspace/projects/kaldi/src/GAMbian:/home/khanh/workspace/projects/kaldi/src/nnetbin:/home/khanh/workspace/projects/kaldi/src/lmbin:/home/khanh/workspace/projects/kaldi/src/fstbin:/home/khanh/workspace/projects/kaldi/src/latbin:/home/khanh/workspace/projects/kaldi/src/gmmbin:/home/khanh/workspace/projects/exkaldi/tutorials\n"
     ]
    }
   ],
   "source": [
    "#ExkaldiInfo.reset_kaldi_root( newPath )    #<< decomment here to look result\n",
    "\n",
    "print(ExKaldiInfo.KALDI_ROOT)\n",
    "print(ExKaldiInfo.ENV[\"PATH\"])"
   ]
  },
  {
   "cell_type": "markdown",
   "metadata": {},
   "source": [
    "When run multiple processes, we appoint a default timeout value, you can get it or reset it."
   ]
  },
  {
   "cell_type": "code",
   "execution_count": 8,
   "metadata": {},
   "outputs": [
    {
     "name": "stdout",
     "output_type": "stream",
     "text": [
      "500\n",
      "60\n"
     ]
    }
   ],
   "source": [
    "print(ExKaldiInfo.timeout)\n",
    "\n",
    "ExKaldiInfo.set_timeout(60)\n",
    "\n",
    "print(ExKaldiInfo.timeout)"
   ]
  },
  {
   "cell_type": "code",
   "execution_count": null,
   "metadata": {},
   "outputs": [],
   "source": []
  }
 ],
 "metadata": {
  "kernelspec": {
   "display_name": "Python 3 (ipykernel)",
   "language": "python",
   "name": "python3"
  },
  "language_info": {
   "codemirror_mode": {
    "name": "ipython",
    "version": 3
   },
   "file_extension": ".py",
   "mimetype": "text/x-python",
   "name": "python",
   "nbconvert_exporter": "python",
   "pygments_lexer": "ipython3",
   "version": "3.9.10"
  }
 },
 "nbformat": 4,
 "nbformat_minor": 4
}
