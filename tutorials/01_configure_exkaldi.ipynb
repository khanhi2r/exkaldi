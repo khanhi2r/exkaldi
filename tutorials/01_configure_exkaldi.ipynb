{
 "cells": [
  {
   "cell_type": "markdown",
   "metadata": {},
   "source": [
    "# Welcome to ExKaldi.\n",
    "\n",
    "In this section, we will introduce some configurations of Exkaldi.\n",
    "\n",
    "Import exkaldi package. We allow that __Kaldi__ has not been installed temporarily, but error will be raised when you use some core functions. "
   ]
  },
  {
   "cell_type": "code",
   "execution_count": null,
   "metadata": {},
   "outputs": [],
   "source": [
    "import exkaldi\n",
    "import os"
   ]
  },
  {
   "cell_type": "markdown",
   "metadata": {},
   "source": [
    "When import exkaldi package, it will be config automatically.\n",
    "\n",
    "Look the version information."
   ]
  },
  {
   "cell_type": "code",
   "execution_count": null,
   "metadata": {},
   "outputs": [],
   "source": [
    "ExKaldiInfo = exkaldi.info\n",
    "\n",
    "ExKaldiInfo"
   ]
  },
  {
   "cell_type": "markdown",
   "metadata": {},
   "source": [
    "__exkaldi.info__ carries various configurations of ExKaldi. For example, if __Kaldi__ has existed, it will automatically look for the version number of Kaldi in \".version\" file in __Kaldi__ root path. You can get the Kaldi version."
   ]
  },
  {
   "cell_type": "code",
   "execution_count": null,
   "metadata": {},
   "outputs": [],
   "source": [
    "ExKaldiInfo.KALDI"
   ]
  },
  {
   "cell_type": "markdown",
   "metadata": {},
   "source": [
    "If __Kaldi__ root directory has not been appended to system PATH, you can call it."
   ]
  },
  {
   "cell_type": "code",
   "execution_count": null,
   "metadata": {},
   "outputs": [],
   "source": [
    "ExKaldiInfo.KALDI_ROOT"
   ]
  },
  {
   "cell_type": "markdown",
   "metadata": {},
   "source": [
    "If you want to get the environment where Exkaldi are running:"
   ]
  },
  {
   "cell_type": "code",
   "execution_count": null,
   "metadata": {
    "scrolled": false
   },
   "outputs": [],
   "source": [
    "env = ExKaldiInfo.ENV\n",
    "\n",
    "env"
   ]
  },
  {
   "cell_type": "markdown",
   "metadata": {},
   "source": [
    "If you want add a new path to the environment PATH:"
   ]
  },
  {
   "cell_type": "code",
   "execution_count": null,
   "metadata": {
    "scrolled": true
   },
   "outputs": [],
   "source": [
    "newPath = os.path.abspath(\"./\")\n",
    "\n",
    "ExKaldiInfo.export_path(newPath)\n",
    "\n",
    "ExKaldiInfo.ENV[\"PATH\"]"
   ]
  },
  {
   "cell_type": "markdown",
   "metadata": {},
   "source": [
    "If needed, you can appoint another __Kaldi__ root path.\n",
    "\n",
    "This operation will also change the environment."
   ]
  },
  {
   "cell_type": "code",
   "execution_count": null,
   "metadata": {},
   "outputs": [],
   "source": [
    "#ExkaldiInfo.reset_kaldi_root( newPath )    #<< decomment here to look result\n",
    "\n",
    "print(ExKaldiInfo.KALDI_ROOT)\n",
    "print(ExKaldiInfo.ENV[\"PATH\"])"
   ]
  },
  {
   "cell_type": "markdown",
   "metadata": {},
   "source": [
    "When run multiple processes, we appoint a default timeout value, you can get it or reset it."
   ]
  },
  {
   "cell_type": "code",
   "execution_count": null,
   "metadata": {},
   "outputs": [],
   "source": [
    "print(ExKaldiInfo.timeout)\n",
    "\n",
    "ExKaldiInfo.set_timeout(60)\n",
    "\n",
    "print(ExKaldiInfo.timeout)"
   ]
  },
  {
   "cell_type": "code",
   "execution_count": null,
   "metadata": {},
   "outputs": [],
   "source": []
  }
 ],
 "metadata": {
  "kernelspec": {
   "display_name": "Python 3",
   "language": "python",
   "name": "python3"
  },
  "language_info": {
   "codemirror_mode": {
    "name": "ipython",
    "version": 3
   },
   "file_extension": ".py",
   "mimetype": "text/x-python",
   "name": "python",
   "nbconvert_exporter": "python",
   "pygments_lexer": "ipython3",
   "version": "3.6.9"
  }
 },
 "nbformat": 4,
 "nbformat_minor": 4
}
