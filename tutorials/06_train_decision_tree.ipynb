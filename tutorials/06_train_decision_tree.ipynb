{
 "cells": [
  {
   "cell_type": "markdown",
   "metadata": {},
   "source": [
    "# Welcome to ExKaldi\n",
    "\n",
    "In this section, we will build a decision tree. In order to train a triphone model, a decision tree is necessary."
   ]
  },
  {
   "cell_type": "code",
   "execution_count": 1,
   "metadata": {},
   "outputs": [
    {
     "name": "stdout",
     "output_type": "stream",
     "text": [
      "Warning: Kaldi root directory was not found in system PATH. You can appoint it:\n",
      "exkaldi.info.reset_kaldi_root( yourPath )\n",
      "If not, ERROR will occur when implementing some core functions.\n"
     ]
    }
   ],
   "source": [
    "import os\n",
    "dataDir = \"librispeech_dummy\"\n",
    "\n",
    "os.environ[\"LD_LIBRARY_PATH\"] = \"/home/khanh/workspace/miniconda3/envs/kaldi/lib/;/home/khanh/workspace/miniconda3/envs/test/lib/\"\n",
    "\n",
    "import exkaldi\n",
    "exkaldi.info.reset_kaldi_root(\"/home/khanh/workspace/projects/kaldi\")"
   ]
  },
  {
   "cell_type": "markdown",
   "metadata": {},
   "source": [
    "Restorage lexicons generated in early step (3_prepare_lexicons)."
   ]
  },
  {
   "cell_type": "code",
   "execution_count": 2,
   "metadata": {},
   "outputs": [],
   "source": [
    "lexFile = os.path.join(dataDir, \"exp\", \"lexicons.lex\")\n",
    "\n",
    "lexicons = exkaldi.load_lex(lexFile)"
   ]
  },
  {
   "cell_type": "markdown",
   "metadata": {},
   "source": [
    "Then instantiate a __DecisionTree__ object. ___lexicons___ can be provided as a parameter."
   ]
  },
  {
   "cell_type": "code",
   "execution_count": 3,
   "metadata": {},
   "outputs": [
    {
     "data": {
      "text/plain": [
       "<exkaldi.hmm.hmm.DecisionTree at 0x7f6751e94640>"
      ]
     },
     "execution_count": 3,
     "metadata": {},
     "output_type": "execute_result"
    }
   ],
   "source": [
    "tree = exkaldi.hmm.DecisionTree(lexicons=lexicons, contextWidth=3, centralPosition=1)\n",
    "\n",
    "tree"
   ]
  },
  {
   "cell_type": "markdown",
   "metadata": {},
   "source": [
    "Then prepare acoustic feature, hmm model and alignment."
   ]
  },
  {
   "cell_type": "code",
   "execution_count": 4,
   "metadata": {},
   "outputs": [
    {
     "data": {
      "text/plain": [
       "39"
      ]
     },
     "execution_count": 4,
     "metadata": {},
     "output_type": "execute_result"
    }
   ],
   "source": [
    "featFile = os.path.join(dataDir, \"exp\", \"train_mfcc_cmvn.ark\")\n",
    "feat = exkaldi.load_feat(featFile)\n",
    "feat = feat.add_delta(order=2)\n",
    "\n",
    "feat.dim"
   ]
  },
  {
   "cell_type": "markdown",
   "metadata": {},
   "source": [
    "Monophone HMM model and alignment have been generated in last step (5_train_mono_HMM-GMM). Now use them directly. In terms of all archives, that are feature, CMVN, probability, fmllr and alignment, we do not allow you use their file directly. So you need load them.\n",
    "\n",
    "You can load the data or only load the index table."
   ]
  },
  {
   "cell_type": "code",
   "execution_count": 5,
   "metadata": {},
   "outputs": [
    {
     "data": {
      "text/plain": [
       "{'103-1240-0000': IndexInfo(frames=1407, startIndex=0, dataSize=7056, filePath='/home/khanh/workspace/projects/exkaldi/tutorials/librispeech_dummy/exp/train_mono/final.ali'),\n",
       " '103-1240-0001': IndexInfo(frames=1593, startIndex=7056, dataSize=7986, filePath='/home/khanh/workspace/projects/exkaldi/tutorials/librispeech_dummy/exp/train_mono/final.ali'),\n",
       " '103-1240-0002': IndexInfo(frames=1393, startIndex=15042, dataSize=6986, filePath='/home/khanh/workspace/projects/exkaldi/tutorials/librispeech_dummy/exp/train_mono/final.ali'),\n",
       " '103-1240-0003': IndexInfo(frames=1469, startIndex=22028, dataSize=7366, filePath='/home/khanh/workspace/projects/exkaldi/tutorials/librispeech_dummy/exp/train_mono/final.ali'),\n",
       " '103-1240-0004': IndexInfo(frames=1250, startIndex=29394, dataSize=6271, filePath='/home/khanh/workspace/projects/exkaldi/tutorials/librispeech_dummy/exp/train_mono/final.ali'),\n",
       " '103-1240-0005': IndexInfo(frames=1516, startIndex=35665, dataSize=7601, filePath='/home/khanh/workspace/projects/exkaldi/tutorials/librispeech_dummy/exp/train_mono/final.ali'),\n",
       " '103-1240-0006': IndexInfo(frames=956, startIndex=43266, dataSize=4801, filePath='/home/khanh/workspace/projects/exkaldi/tutorials/librispeech_dummy/exp/train_mono/final.ali'),\n",
       " '103-1240-0007': IndexInfo(frames=1502, startIndex=48067, dataSize=7531, filePath='/home/khanh/workspace/projects/exkaldi/tutorials/librispeech_dummy/exp/train_mono/final.ali'),\n",
       " '103-1240-0008': IndexInfo(frames=1542, startIndex=55598, dataSize=7731, filePath='/home/khanh/workspace/projects/exkaldi/tutorials/librispeech_dummy/exp/train_mono/final.ali'),\n",
       " '103-1240-0009': IndexInfo(frames=1001, startIndex=63329, dataSize=5026, filePath='/home/khanh/workspace/projects/exkaldi/tutorials/librispeech_dummy/exp/train_mono/final.ali'),\n",
       " '103-1241-0000': IndexInfo(frames=1595, startIndex=68355, dataSize=7996, filePath='/home/khanh/workspace/projects/exkaldi/tutorials/librispeech_dummy/exp/train_mono/final.ali'),\n",
       " '103-1241-0001': IndexInfo(frames=1553, startIndex=76351, dataSize=7786, filePath='/home/khanh/workspace/projects/exkaldi/tutorials/librispeech_dummy/exp/train_mono/final.ali'),\n",
       " '103-1241-0002': IndexInfo(frames=1555, startIndex=84137, dataSize=7796, filePath='/home/khanh/workspace/projects/exkaldi/tutorials/librispeech_dummy/exp/train_mono/final.ali'),\n",
       " '103-1241-0003': IndexInfo(frames=1387, startIndex=91933, dataSize=6956, filePath='/home/khanh/workspace/projects/exkaldi/tutorials/librispeech_dummy/exp/train_mono/final.ali'),\n",
       " '103-1241-0004': IndexInfo(frames=1474, startIndex=98889, dataSize=7391, filePath='/home/khanh/workspace/projects/exkaldi/tutorials/librispeech_dummy/exp/train_mono/final.ali'),\n",
       " '103-1241-0005': IndexInfo(frames=1401, startIndex=106280, dataSize=7026, filePath='/home/khanh/workspace/projects/exkaldi/tutorials/librispeech_dummy/exp/train_mono/final.ali'),\n",
       " '103-1241-0006': IndexInfo(frames=1522, startIndex=113306, dataSize=7631, filePath='/home/khanh/workspace/projects/exkaldi/tutorials/librispeech_dummy/exp/train_mono/final.ali'),\n",
       " '103-1241-0007': IndexInfo(frames=1513, startIndex=120937, dataSize=7586, filePath='/home/khanh/workspace/projects/exkaldi/tutorials/librispeech_dummy/exp/train_mono/final.ali'),\n",
       " '103-1241-0008': IndexInfo(frames=1512, startIndex=128523, dataSize=7581, filePath='/home/khanh/workspace/projects/exkaldi/tutorials/librispeech_dummy/exp/train_mono/final.ali'),\n",
       " '103-1241-0009': IndexInfo(frames=1388, startIndex=136104, dataSize=6961, filePath='/home/khanh/workspace/projects/exkaldi/tutorials/librispeech_dummy/exp/train_mono/final.ali'),\n",
       " '1034-121119-0000': IndexInfo(frames=786, startIndex=143065, dataSize=3954, filePath='/home/khanh/workspace/projects/exkaldi/tutorials/librispeech_dummy/exp/train_mono/final.ali'),\n",
       " '1034-121119-0001': IndexInfo(frames=1342, startIndex=147019, dataSize=6734, filePath='/home/khanh/workspace/projects/exkaldi/tutorials/librispeech_dummy/exp/train_mono/final.ali'),\n",
       " '1034-121119-0002': IndexInfo(frames=1567, startIndex=153753, dataSize=7859, filePath='/home/khanh/workspace/projects/exkaldi/tutorials/librispeech_dummy/exp/train_mono/final.ali'),\n",
       " '1034-121119-0003': IndexInfo(frames=1420, startIndex=161612, dataSize=7124, filePath='/home/khanh/workspace/projects/exkaldi/tutorials/librispeech_dummy/exp/train_mono/final.ali'),\n",
       " '1034-121119-0004': IndexInfo(frames=919, startIndex=168736, dataSize=4619, filePath='/home/khanh/workspace/projects/exkaldi/tutorials/librispeech_dummy/exp/train_mono/final.ali'),\n",
       " '1034-121119-0005': IndexInfo(frames=1071, startIndex=173355, dataSize=5379, filePath='/home/khanh/workspace/projects/exkaldi/tutorials/librispeech_dummy/exp/train_mono/final.ali'),\n",
       " '1034-121119-0006': IndexInfo(frames=1398, startIndex=178734, dataSize=7014, filePath='/home/khanh/workspace/projects/exkaldi/tutorials/librispeech_dummy/exp/train_mono/final.ali'),\n",
       " '1034-121119-0007': IndexInfo(frames=1367, startIndex=185748, dataSize=6859, filePath='/home/khanh/workspace/projects/exkaldi/tutorials/librispeech_dummy/exp/train_mono/final.ali'),\n",
       " '1034-121119-0008': IndexInfo(frames=1508, startIndex=192607, dataSize=7564, filePath='/home/khanh/workspace/projects/exkaldi/tutorials/librispeech_dummy/exp/train_mono/final.ali'),\n",
       " '1034-121119-0009': IndexInfo(frames=279, startIndex=200171, dataSize=1419, filePath='/home/khanh/workspace/projects/exkaldi/tutorials/librispeech_dummy/exp/train_mono/final.ali'),\n",
       " '1040-133433-0000': IndexInfo(frames=1458, startIndex=201590, dataSize=7314, filePath='/home/khanh/workspace/projects/exkaldi/tutorials/librispeech_dummy/exp/train_mono/final.ali'),\n",
       " '1040-133433-0001': IndexInfo(frames=1536, startIndex=208904, dataSize=7704, filePath='/home/khanh/workspace/projects/exkaldi/tutorials/librispeech_dummy/exp/train_mono/final.ali'),\n",
       " '1040-133433-0002': IndexInfo(frames=1533, startIndex=216608, dataSize=7689, filePath='/home/khanh/workspace/projects/exkaldi/tutorials/librispeech_dummy/exp/train_mono/final.ali'),\n",
       " '1040-133433-0003': IndexInfo(frames=1495, startIndex=224297, dataSize=7499, filePath='/home/khanh/workspace/projects/exkaldi/tutorials/librispeech_dummy/exp/train_mono/final.ali'),\n",
       " '1040-133433-0004': IndexInfo(frames=1481, startIndex=231796, dataSize=7429, filePath='/home/khanh/workspace/projects/exkaldi/tutorials/librispeech_dummy/exp/train_mono/final.ali'),\n",
       " '1040-133433-0005': IndexInfo(frames=1462, startIndex=239225, dataSize=7334, filePath='/home/khanh/workspace/projects/exkaldi/tutorials/librispeech_dummy/exp/train_mono/final.ali'),\n",
       " '1040-133433-0006': IndexInfo(frames=318, startIndex=246559, dataSize=1614, filePath='/home/khanh/workspace/projects/exkaldi/tutorials/librispeech_dummy/exp/train_mono/final.ali'),\n",
       " '1040-133433-0007': IndexInfo(frames=1205, startIndex=248173, dataSize=6049, filePath='/home/khanh/workspace/projects/exkaldi/tutorials/librispeech_dummy/exp/train_mono/final.ali'),\n",
       " '1040-133433-0008': IndexInfo(frames=1503, startIndex=254222, dataSize=7539, filePath='/home/khanh/workspace/projects/exkaldi/tutorials/librispeech_dummy/exp/train_mono/final.ali'),\n",
       " '1040-133433-0009': IndexInfo(frames=1505, startIndex=261761, dataSize=7549, filePath='/home/khanh/workspace/projects/exkaldi/tutorials/librispeech_dummy/exp/train_mono/final.ali'),\n",
       " '1069-133699-0000': IndexInfo(frames=1561, startIndex=269310, dataSize=7829, filePath='/home/khanh/workspace/projects/exkaldi/tutorials/librispeech_dummy/exp/train_mono/final.ali'),\n",
       " '1069-133699-0001': IndexInfo(frames=1585, startIndex=277139, dataSize=7949, filePath='/home/khanh/workspace/projects/exkaldi/tutorials/librispeech_dummy/exp/train_mono/final.ali'),\n",
       " '1069-133699-0002': IndexInfo(frames=1467, startIndex=285088, dataSize=7359, filePath='/home/khanh/workspace/projects/exkaldi/tutorials/librispeech_dummy/exp/train_mono/final.ali'),\n",
       " '1069-133699-0003': IndexInfo(frames=1444, startIndex=292447, dataSize=7244, filePath='/home/khanh/workspace/projects/exkaldi/tutorials/librispeech_dummy/exp/train_mono/final.ali'),\n",
       " '1069-133699-0004': IndexInfo(frames=1370, startIndex=299691, dataSize=6874, filePath='/home/khanh/workspace/projects/exkaldi/tutorials/librispeech_dummy/exp/train_mono/final.ali'),\n",
       " '1069-133699-0005': IndexInfo(frames=1065, startIndex=306565, dataSize=5349, filePath='/home/khanh/workspace/projects/exkaldi/tutorials/librispeech_dummy/exp/train_mono/final.ali'),\n",
       " '1069-133699-0006': IndexInfo(frames=1450, startIndex=311914, dataSize=7274, filePath='/home/khanh/workspace/projects/exkaldi/tutorials/librispeech_dummy/exp/train_mono/final.ali'),\n",
       " '1069-133699-0007': IndexInfo(frames=1250, startIndex=319188, dataSize=6274, filePath='/home/khanh/workspace/projects/exkaldi/tutorials/librispeech_dummy/exp/train_mono/final.ali'),\n",
       " '1069-133699-0008': IndexInfo(frames=1591, startIndex=325462, dataSize=7979, filePath='/home/khanh/workspace/projects/exkaldi/tutorials/librispeech_dummy/exp/train_mono/final.ali'),\n",
       " '1069-133699-0009': IndexInfo(frames=254, startIndex=333441, dataSize=1294, filePath='/home/khanh/workspace/projects/exkaldi/tutorials/librispeech_dummy/exp/train_mono/final.ali'),\n",
       " '1069-133709-0000': IndexInfo(frames=1504, startIndex=334735, dataSize=7544, filePath='/home/khanh/workspace/projects/exkaldi/tutorials/librispeech_dummy/exp/train_mono/final.ali'),\n",
       " '1069-133709-0001': IndexInfo(frames=1437, startIndex=342279, dataSize=7209, filePath='/home/khanh/workspace/projects/exkaldi/tutorials/librispeech_dummy/exp/train_mono/final.ali'),\n",
       " '1069-133709-0002': IndexInfo(frames=1485, startIndex=349488, dataSize=7449, filePath='/home/khanh/workspace/projects/exkaldi/tutorials/librispeech_dummy/exp/train_mono/final.ali'),\n",
       " '1069-133709-0003': IndexInfo(frames=375, startIndex=356937, dataSize=1899, filePath='/home/khanh/workspace/projects/exkaldi/tutorials/librispeech_dummy/exp/train_mono/final.ali'),\n",
       " '1069-133709-0004': IndexInfo(frames=1473, startIndex=358836, dataSize=7389, filePath='/home/khanh/workspace/projects/exkaldi/tutorials/librispeech_dummy/exp/train_mono/final.ali'),\n",
       " '1069-133709-0005': IndexInfo(frames=1178, startIndex=366225, dataSize=5914, filePath='/home/khanh/workspace/projects/exkaldi/tutorials/librispeech_dummy/exp/train_mono/final.ali'),\n",
       " '1069-133709-0006': IndexInfo(frames=1480, startIndex=372139, dataSize=7424, filePath='/home/khanh/workspace/projects/exkaldi/tutorials/librispeech_dummy/exp/train_mono/final.ali'),\n",
       " '1069-133709-0007': IndexInfo(frames=1532, startIndex=379563, dataSize=7684, filePath='/home/khanh/workspace/projects/exkaldi/tutorials/librispeech_dummy/exp/train_mono/final.ali'),\n",
       " '1069-133709-0008': IndexInfo(frames=1572, startIndex=387247, dataSize=7884, filePath='/home/khanh/workspace/projects/exkaldi/tutorials/librispeech_dummy/exp/train_mono/final.ali'),\n",
       " '1069-133709-0009': IndexInfo(frames=1278, startIndex=395131, dataSize=6414, filePath='/home/khanh/workspace/projects/exkaldi/tutorials/librispeech_dummy/exp/train_mono/final.ali'),\n",
       " '1081-125237-0000': IndexInfo(frames=1032, startIndex=401545, dataSize=5184, filePath='/home/khanh/workspace/projects/exkaldi/tutorials/librispeech_dummy/exp/train_mono/final.ali'),\n",
       " '1081-125237-0001': IndexInfo(frames=674, startIndex=406729, dataSize=3394, filePath='/home/khanh/workspace/projects/exkaldi/tutorials/librispeech_dummy/exp/train_mono/final.ali'),\n",
       " '1081-125237-0002': IndexInfo(frames=1478, startIndex=410123, dataSize=7414, filePath='/home/khanh/workspace/projects/exkaldi/tutorials/librispeech_dummy/exp/train_mono/final.ali'),\n",
       " '1081-125237-0003': IndexInfo(frames=516, startIndex=417537, dataSize=2604, filePath='/home/khanh/workspace/projects/exkaldi/tutorials/librispeech_dummy/exp/train_mono/final.ali'),\n",
       " '1081-125237-0004': IndexInfo(frames=1046, startIndex=420141, dataSize=5254, filePath='/home/khanh/workspace/projects/exkaldi/tutorials/librispeech_dummy/exp/train_mono/final.ali'),\n",
       " '1081-125237-0005': IndexInfo(frames=1258, startIndex=425395, dataSize=6314, filePath='/home/khanh/workspace/projects/exkaldi/tutorials/librispeech_dummy/exp/train_mono/final.ali'),\n",
       " '1081-125237-0006': IndexInfo(frames=986, startIndex=431709, dataSize=4954, filePath='/home/khanh/workspace/projects/exkaldi/tutorials/librispeech_dummy/exp/train_mono/final.ali'),\n",
       " '1081-125237-0007': IndexInfo(frames=1533, startIndex=436663, dataSize=7689, filePath='/home/khanh/workspace/projects/exkaldi/tutorials/librispeech_dummy/exp/train_mono/final.ali'),\n",
       " '1081-125237-0008': IndexInfo(frames=1502, startIndex=444352, dataSize=7534, filePath='/home/khanh/workspace/projects/exkaldi/tutorials/librispeech_dummy/exp/train_mono/final.ali'),\n",
       " '1081-125237-0009': IndexInfo(frames=254, startIndex=451886, dataSize=1294, filePath='/home/khanh/workspace/projects/exkaldi/tutorials/librispeech_dummy/exp/train_mono/final.ali'),\n",
       " '1081-128618-0000': IndexInfo(frames=908, startIndex=453180, dataSize=4564, filePath='/home/khanh/workspace/projects/exkaldi/tutorials/librispeech_dummy/exp/train_mono/final.ali'),\n",
       " '1081-128618-0001': IndexInfo(frames=560, startIndex=457744, dataSize=2824, filePath='/home/khanh/workspace/projects/exkaldi/tutorials/librispeech_dummy/exp/train_mono/final.ali'),\n",
       " '1081-128618-0002': IndexInfo(frames=1543, startIndex=460568, dataSize=7739, filePath='/home/khanh/workspace/projects/exkaldi/tutorials/librispeech_dummy/exp/train_mono/final.ali'),\n",
       " '1081-128618-0003': IndexInfo(frames=1562, startIndex=468307, dataSize=7834, filePath='/home/khanh/workspace/projects/exkaldi/tutorials/librispeech_dummy/exp/train_mono/final.ali'),\n",
       " '1081-128618-0004': IndexInfo(frames=1347, startIndex=476141, dataSize=6759, filePath='/home/khanh/workspace/projects/exkaldi/tutorials/librispeech_dummy/exp/train_mono/final.ali'),\n",
       " '1081-128618-0005': IndexInfo(frames=1168, startIndex=482900, dataSize=5864, filePath='/home/khanh/workspace/projects/exkaldi/tutorials/librispeech_dummy/exp/train_mono/final.ali'),\n",
       " '1081-128618-0006': IndexInfo(frames=1131, startIndex=488764, dataSize=5679, filePath='/home/khanh/workspace/projects/exkaldi/tutorials/librispeech_dummy/exp/train_mono/final.ali'),\n",
       " '1081-128618-0007': IndexInfo(frames=898, startIndex=494443, dataSize=4514, filePath='/home/khanh/workspace/projects/exkaldi/tutorials/librispeech_dummy/exp/train_mono/final.ali'),\n",
       " '1081-128618-0008': IndexInfo(frames=1329, startIndex=498957, dataSize=6669, filePath='/home/khanh/workspace/projects/exkaldi/tutorials/librispeech_dummy/exp/train_mono/final.ali'),\n",
       " '1081-128618-0009': IndexInfo(frames=1437, startIndex=505626, dataSize=7209, filePath='/home/khanh/workspace/projects/exkaldi/tutorials/librispeech_dummy/exp/train_mono/final.ali'),\n",
       " '1088-129236-0000': IndexInfo(frames=983, startIndex=512835, dataSize=4939, filePath='/home/khanh/workspace/projects/exkaldi/tutorials/librispeech_dummy/exp/train_mono/final.ali'),\n",
       " '1088-129236-0001': IndexInfo(frames=1527, startIndex=517774, dataSize=7659, filePath='/home/khanh/workspace/projects/exkaldi/tutorials/librispeech_dummy/exp/train_mono/final.ali'),\n",
       " '1088-129236-0002': IndexInfo(frames=1590, startIndex=525433, dataSize=7974, filePath='/home/khanh/workspace/projects/exkaldi/tutorials/librispeech_dummy/exp/train_mono/final.ali'),\n",
       " '1088-129236-0003': IndexInfo(frames=1675, startIndex=533407, dataSize=8399, filePath='/home/khanh/workspace/projects/exkaldi/tutorials/librispeech_dummy/exp/train_mono/final.ali'),\n",
       " '1088-129236-0004': IndexInfo(frames=1079, startIndex=541806, dataSize=5419, filePath='/home/khanh/workspace/projects/exkaldi/tutorials/librispeech_dummy/exp/train_mono/final.ali'),\n",
       " '1088-129236-0005': IndexInfo(frames=1301, startIndex=547225, dataSize=6529, filePath='/home/khanh/workspace/projects/exkaldi/tutorials/librispeech_dummy/exp/train_mono/final.ali'),\n",
       " '1088-129236-0006': IndexInfo(frames=1119, startIndex=553754, dataSize=5619, filePath='/home/khanh/workspace/projects/exkaldi/tutorials/librispeech_dummy/exp/train_mono/final.ali'),\n",
       " '1088-129236-0007': IndexInfo(frames=1248, startIndex=559373, dataSize=6264, filePath='/home/khanh/workspace/projects/exkaldi/tutorials/librispeech_dummy/exp/train_mono/final.ali'),\n",
       " '1088-129236-0008': IndexInfo(frames=1444, startIndex=565637, dataSize=7244, filePath='/home/khanh/workspace/projects/exkaldi/tutorials/librispeech_dummy/exp/train_mono/final.ali'),\n",
       " '1088-129236-0009': IndexInfo(frames=1354, startIndex=572881, dataSize=6794, filePath='/home/khanh/workspace/projects/exkaldi/tutorials/librispeech_dummy/exp/train_mono/final.ali'),\n",
       " '1088-134315-0000': IndexInfo(frames=1602, startIndex=579675, dataSize=8034, filePath='/home/khanh/workspace/projects/exkaldi/tutorials/librispeech_dummy/exp/train_mono/final.ali'),\n",
       " '1088-134315-0001': IndexInfo(frames=1522, startIndex=587709, dataSize=7634, filePath='/home/khanh/workspace/projects/exkaldi/tutorials/librispeech_dummy/exp/train_mono/final.ali'),\n",
       " '1088-134315-0002': IndexInfo(frames=1257, startIndex=595343, dataSize=6309, filePath='/home/khanh/workspace/projects/exkaldi/tutorials/librispeech_dummy/exp/train_mono/final.ali'),\n",
       " '1088-134315-0003': IndexInfo(frames=1176, startIndex=601652, dataSize=5904, filePath='/home/khanh/workspace/projects/exkaldi/tutorials/librispeech_dummy/exp/train_mono/final.ali'),\n",
       " '1088-134315-0004': IndexInfo(frames=1343, startIndex=607556, dataSize=6739, filePath='/home/khanh/workspace/projects/exkaldi/tutorials/librispeech_dummy/exp/train_mono/final.ali'),\n",
       " '1088-134315-0005': IndexInfo(frames=1205, startIndex=614295, dataSize=6049, filePath='/home/khanh/workspace/projects/exkaldi/tutorials/librispeech_dummy/exp/train_mono/final.ali'),\n",
       " '1088-134315-0006': IndexInfo(frames=1517, startIndex=620344, dataSize=7609, filePath='/home/khanh/workspace/projects/exkaldi/tutorials/librispeech_dummy/exp/train_mono/final.ali'),\n",
       " '1088-134315-0007': IndexInfo(frames=1407, startIndex=627953, dataSize=7059, filePath='/home/khanh/workspace/projects/exkaldi/tutorials/librispeech_dummy/exp/train_mono/final.ali'),\n",
       " '1088-134315-0008': IndexInfo(frames=1523, startIndex=635012, dataSize=7639, filePath='/home/khanh/workspace/projects/exkaldi/tutorials/librispeech_dummy/exp/train_mono/final.ali'),\n",
       " '1088-134315-0009': IndexInfo(frames=1261, startIndex=642651, dataSize=6329, filePath='/home/khanh/workspace/projects/exkaldi/tutorials/librispeech_dummy/exp/train_mono/final.ali')}"
      ]
     },
     "execution_count": 5,
     "metadata": {},
     "output_type": "execute_result"
    }
   ],
   "source": [
    "hmmFile = os.path.join(dataDir, \"exp\", \"train_mono\", \"final.mdl\")\n",
    "\n",
    "aliFile = os.path.join(dataDir, \"exp\", \"train_mono\", \"final.ali\")\n",
    "ali = exkaldi.load_index_table(aliFile, useSuffix=\"ark\")\n",
    "ali"
   ]
  },
  {
   "cell_type": "markdown",
   "metadata": {},
   "source": [
    "As training the HMM model, we provide high-level API to train tree, but now we still introduce the training steps in detail.\n",
    "\n",
    "### Train Dicision Tree in detail\n",
    "\n",
    "#### 1. Accumulate statistics data"
   ]
  },
  {
   "cell_type": "code",
   "execution_count": 6,
   "metadata": {},
   "outputs": [],
   "source": [
    "outDir = os.path.join(dataDir, \"exp\", \"train_delta\")\n",
    "\n",
    "exkaldi.utils.make_dependent_dirs(outDir, False)"
   ]
  },
  {
   "cell_type": "code",
   "execution_count": 7,
   "metadata": {},
   "outputs": [
    {
     "data": {
      "text/plain": [
       "'librispeech_dummy/exp/train_delta/treeStats.acc'"
      ]
     },
     "execution_count": 7,
     "metadata": {},
     "output_type": "execute_result"
    }
   ],
   "source": [
    "treeStatsFile = os.path.join(outDir, \"treeStats.acc\")\n",
    "\n",
    "tree.accumulate_stats(feat, hmmFile, ali, outFile=treeStatsFile)"
   ]
  },
  {
   "cell_type": "markdown",
   "metadata": {},
   "source": [
    "#### 2. Cluster phones and compile questions."
   ]
  },
  {
   "cell_type": "code",
   "execution_count": 8,
   "metadata": {},
   "outputs": [
    {
     "data": {
      "text/plain": [
       "'librispeech_dummy/exp/train_delta/questions.qst'"
      ]
     },
     "execution_count": 8,
     "metadata": {},
     "output_type": "execute_result"
    }
   ],
   "source": [
    "topoFile = os.path.join(dataDir, \"exp\", \"topo\")\n",
    "\n",
    "questionsFile = os.path.join(outDir, \"questions.qst\")\n",
    "\n",
    "tree.compile_questions(treeStatsFile, topoFile, outFile=questionsFile)"
   ]
  },
  {
   "cell_type": "markdown",
   "metadata": {},
   "source": [
    "#### 3. Build tree."
   ]
  },
  {
   "cell_type": "code",
   "execution_count": 9,
   "metadata": {},
   "outputs": [
    {
     "data": {
      "text/plain": [
       "<exkaldi.hmm.hmm.DecisionTree at 0x7f6751e94640>"
      ]
     },
     "execution_count": 9,
     "metadata": {},
     "output_type": "execute_result"
    }
   ],
   "source": [
    "targetLeaves = 300\n",
    "\n",
    "tree.build(treeStatsFile, questionsFile, topoFile, numLeaves=targetLeaves)"
   ]
  },
  {
   "cell_type": "markdown",
   "metadata": {},
   "source": [
    "Decision has been built done. Look it."
   ]
  },
  {
   "cell_type": "code",
   "execution_count": 10,
   "metadata": {},
   "outputs": [
    {
     "data": {
      "text/plain": [
       "TreeInfo(numPdfs=272, contextWidth=3, centralPosition=1)"
      ]
     },
     "execution_count": 10,
     "metadata": {},
     "output_type": "execute_result"
    }
   ],
   "source": [
    "tree.info"
   ]
  },
  {
   "cell_type": "markdown",
   "metadata": {},
   "source": [
    "Save the tree to file."
   ]
  },
  {
   "cell_type": "code",
   "execution_count": 11,
   "metadata": {},
   "outputs": [
    {
     "data": {
      "text/plain": [
       "'librispeech_dummy/exp/train_delta/tree'"
      ]
     },
     "execution_count": 11,
     "metadata": {},
     "output_type": "execute_result"
    }
   ],
   "source": [
    "treeFile = os.path.join(outDir, \"tree\")\n",
    "\n",
    "tree.save(treeFile)"
   ]
  },
  {
   "cell_type": "markdown",
   "metadata": {},
   "source": [
    "As mentioned above, we provided a high-level API to build tree directly.\n",
    "\n",
    "### Train Dicision Tree in high-level API"
   ]
  },
  {
   "cell_type": "code",
   "execution_count": 12,
   "metadata": {},
   "outputs": [],
   "source": [
    "del tree\n",
    "os.remove(treeStatsFile)\n",
    "os.remove(questionsFile)\n",
    "os.remove(treeFile)"
   ]
  },
  {
   "cell_type": "code",
   "execution_count": 13,
   "metadata": {},
   "outputs": [
    {
     "name": "stdout",
     "output_type": "stream",
     "text": [
      "Start to build decision tree.\n",
      "Start Time: 2022/09/01-20:37:19\n",
      "Accumulate tree statistics\n",
      "Cluster phones and compile questions\n",
      "Build tree\n",
      "Done to build the decision tree.\n",
      "Saved Final Tree: librispeech_dummy/exp/train_delta/tree\n",
      "End Time: 2022/09/01-20:37:22\n"
     ]
    }
   ],
   "source": [
    "tree = exkaldi.hmm.DecisionTree(lexicons=lexicons,contextWidth=3,centralPosition=1)\n",
    "\n",
    "tree.train(feat=feat, hmm=hmmFile, ali=ali, topoFile=topoFile, numLeaves=300, tempDir=outDir)"
   ]
  },
  {
   "cell_type": "markdown",
   "metadata": {},
   "source": [
    "Tree has been saved in directory automatically."
   ]
  },
  {
   "cell_type": "code",
   "execution_count": 14,
   "metadata": {},
   "outputs": [
    {
     "data": {
      "text/plain": [
       "TreeInfo(numPdfs=272, contextWidth=3, centralPosition=1)"
      ]
     },
     "execution_count": 14,
     "metadata": {},
     "output_type": "execute_result"
    }
   ],
   "source": [
    "tree.info"
   ]
  }
 ],
 "metadata": {
  "kernelspec": {
   "display_name": "Python 3 (ipykernel)",
   "language": "python",
   "name": "python3"
  },
  "language_info": {
   "codemirror_mode": {
    "name": "ipython",
    "version": 3
   },
   "file_extension": ".py",
   "mimetype": "text/x-python",
   "name": "python",
   "nbconvert_exporter": "python",
   "pygments_lexer": "ipython3",
   "version": "3.9.10"
  }
 },
 "nbformat": 4,
 "nbformat_minor": 4
}
