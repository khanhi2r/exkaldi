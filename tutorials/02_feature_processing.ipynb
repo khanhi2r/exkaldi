{
 "cells": [
  {
   "cell_type": "markdown",
   "metadata": {},
   "source": [
    "# Welcome to ExKaldi\n",
    "\n",
    "In this section, we will extract and process the acoustic feature.\n",
    "\n",
    "Please ensure you have downloaded the complete librispeech_dummy corpus from our github.\n",
    "https://github.com/wangyu09/exkaldi\n",
    "\n",
    "First of all, update the wav path info in wav.scp file."
   ]
  },
  {
   "cell_type": "code",
   "execution_count": 1,
   "metadata": {},
   "outputs": [],
   "source": [
    "! cd librispeech_dummy && python3 reset_wav_path.py"
   ]
  },
  {
   "cell_type": "markdown",
   "metadata": {},
   "source": [
    "From now on, we will start to build a ASR system from the scratch."
   ]
  },
  {
   "cell_type": "code",
   "execution_count": 2,
   "metadata": {},
   "outputs": [
    {
     "name": "stdout",
     "output_type": "stream",
     "text": [
      "Warning: Kaldi root directory was not found in system PATH. You can appoint it:\n",
      "exkaldi.info.reset_kaldi_root( yourPath )\n",
      "If not, ERROR will occur when implementing some core functions.\n"
     ]
    }
   ],
   "source": [
    "import exkaldi\n",
    "exkaldi.info.reset_kaldi_root(\"/home/khanh/workspace/projects/kaldi\")\n",
    "\n",
    "import os\n",
    "dataDir = \"librispeech_dummy\""
   ]
  },
  {
   "cell_type": "markdown",
   "metadata": {},
   "source": [
    "In the train dataset, there are 100 utterances fetched from 10 speakers. Each specker corresponds to 10 utterances.\n",
    "\n",
    "You can compute feature from __WAV file__ or __Kaldi script-file table__ or exkaldi __ListTable__ object."
   ]
  },
  {
   "cell_type": "code",
   "execution_count": 3,
   "metadata": {},
   "outputs": [
    {
     "data": {
      "text/plain": [
       "<exkaldi.core.archive.BytesFeat at 0x7f2e84178790>"
      ]
     },
     "execution_count": 3,
     "metadata": {},
     "output_type": "execute_result"
    }
   ],
   "source": [
    "scpFile = os.path.join(dataDir, \"train\", \"wav.scp\")\n",
    "\n",
    "feat = exkaldi.compute_mfcc(scpFile, name=\"mfcc\")\n",
    "\n",
    "feat"
   ]
  },
  {
   "cell_type": "markdown",
   "metadata": {},
   "source": [
    "Use function __compute_mfcc__ to compute MFCC feature. In current version of ExKaldi, there are 4 functions to compute acoustic feature:\n",
    "\n",
    "__compute_mfcc__: compute the MFCC feature.  \n",
    "__compute_fbank__: compute the fBank feature.  \n",
    "__compute_plp__: compute the PLP feature.  \n",
    "__compute_spectrogram__: compute the power spectrogram feature.  \n",
    "\n",
    "The returned object: ___feat___ is an exkaldi feature archive whose class name is __BytesFeat__. In ExKaldi, we use 3 approaches to discribe Kaldi archives: __Bytes Object__, __Numpy Array__, and __Index Table__. We have designed a group of classes to hold them. We will introduce them in later steps.\n",
    "\n",
    "Here, __BytesFeat__ is one of __Bytes Object__ and its object holds the acoustic feature data with bytes format. You can use attribute: __.data__ to get it, but we do not recommend this if you just want to look it, because it is not a human-readable data format.\n",
    "\n",
    "___feat___ object has some useful attributes and methods. For example, use __.dim__ to look feature dimensions."
   ]
  },
  {
   "cell_type": "code",
   "execution_count": 4,
   "metadata": {},
   "outputs": [
    {
     "data": {
      "text/plain": [
       "13"
      ]
     },
     "execution_count": 4,
     "metadata": {},
     "output_type": "execute_result"
    }
   ],
   "source": [
    "feat.dim"
   ]
  },
  {
   "cell_type": "markdown",
   "metadata": {},
   "source": [
    "Use __.utts__ to get its' utterances IDs."
   ]
  },
  {
   "cell_type": "code",
   "execution_count": 5,
   "metadata": {},
   "outputs": [
    {
     "data": {
      "text/plain": [
       "['103-1240-0000',\n",
       " '103-1240-0001',\n",
       " '103-1240-0002',\n",
       " '103-1240-0003',\n",
       " '103-1240-0004']"
      ]
     },
     "execution_count": 5,
     "metadata": {},
     "output_type": "execute_result"
    }
   ],
   "source": [
    "feat.utts[0:5]"
   ]
  },
  {
   "cell_type": "markdown",
   "metadata": {},
   "source": [
    "Randomly sample 10 utterances."
   ]
  },
  {
   "cell_type": "code",
   "execution_count": 6,
   "metadata": {},
   "outputs": [
    {
     "data": {
      "text/plain": [
       "<exkaldi.core.archive.BytesFeat at 0x7f2e6c480970>"
      ]
     },
     "execution_count": 6,
     "metadata": {},
     "output_type": "execute_result"
    }
   ],
   "source": [
    "samplingFeat = feat.subset(nRandom=10)\n",
    "\n",
    "samplingFeat"
   ]
  },
  {
   "cell_type": "markdown",
   "metadata": {},
   "source": [
    "Here, ___samplingFeat___ is also a __BytesFeat__ object.\n",
    "\n",
    "In ExKaldi, the name of object will record the operation. For example, the ___samplingFeat___ generated above has a new name now."
   ]
  },
  {
   "cell_type": "code",
   "execution_count": 7,
   "metadata": {},
   "outputs": [
    {
     "data": {
      "text/plain": [
       "'subset(mfcc,random 10)'"
      ]
     },
     "execution_count": 7,
     "metadata": {},
     "output_type": "execute_result"
    }
   ],
   "source": [
    "samplingFeat.name"
   ]
  },
  {
   "cell_type": "code",
   "execution_count": 8,
   "metadata": {},
   "outputs": [],
   "source": [
    "del samplingFeat"
   ]
  },
  {
   "cell_type": "markdown",
   "metadata": {},
   "source": [
    "Besides __BytesFeat__ class, these classes can hold other Kaldi archive tables in bytes format.\n",
    "\n",
    "__BytesCMVN__: to hold the CMVN statistics.  \n",
    "__BytesProb__: to hold the Neural Network output.  \n",
    "__BytesAliTrans__: to hold the transition-ID Alignment.   \n",
    "__BytesFmllr__: to hold the fmllr transform matrices. \n",
    "\n",
    "All these classes have some fimiliar properties. For more information, check the [ExKaldi Documents](https://wangyu09.github.io/exkaldi/#/) please. Here we only focus on feature processing.\n",
    "\n",
    "By the way, in ExKaldi, we sort these archives rigorously in order to reduce buffer cost and accelerate processing."
   ]
  },
  {
   "cell_type": "code",
   "execution_count": 9,
   "metadata": {},
   "outputs": [
    {
     "data": {
      "text/plain": [
       "['1088-134315-0009',\n",
       " '1088-134315-0008',\n",
       " '1088-134315-0007',\n",
       " '1088-134315-0006',\n",
       " '1088-134315-0005']"
      ]
     },
     "execution_count": 9,
     "metadata": {},
     "output_type": "execute_result"
    }
   ],
   "source": [
    "featTemp = feat.sort(by=\"utt\", reverse=True)\n",
    "\n",
    "featTemp.utts[0:5]"
   ]
  },
  {
   "cell_type": "code",
   "execution_count": 10,
   "metadata": {},
   "outputs": [],
   "source": [
    "del featTemp"
   ]
  },
  {
   "cell_type": "markdown",
   "metadata": {},
   "source": [
    "Raw feature can be further optimized, typically, with applying CMVN. Here we firstly compute the CMVN statistics."
   ]
  },
  {
   "cell_type": "code",
   "execution_count": 11,
   "metadata": {},
   "outputs": [
    {
     "data": {
      "text/plain": [
       "<exkaldi.core.archive.BytesCMVN at 0x7f2e67e1abe0>"
      ]
     },
     "execution_count": 11,
     "metadata": {},
     "output_type": "execute_result"
    }
   ],
   "source": [
    "spk2uttFile = os.path.join(dataDir, \"train\", \"spk2utt\")\n",
    "\n",
    "cmvn = exkaldi.compute_cmvn_stats(feat, spk2utt=spk2uttFile, name=\"cmvn\")\n",
    "\n",
    "cmvn"
   ]
  },
  {
   "cell_type": "markdown",
   "metadata": {},
   "source": [
    "___cmvn___ is an exkaldi __BytesCMVN__ object. It holds the CMVN statistics in binary format. Then we use it to normalize the feature."
   ]
  },
  {
   "cell_type": "code",
   "execution_count": 12,
   "metadata": {},
   "outputs": [
    {
     "data": {
      "text/plain": [
       "'cmvn(mfcc,cmvn)'"
      ]
     },
     "execution_count": 12,
     "metadata": {},
     "output_type": "execute_result"
    }
   ],
   "source": [
    "utt2spkFile = os.path.join(dataDir, \"train\", \"utt2spk\")\n",
    "\n",
    "feat = exkaldi.use_cmvn(feat, cmvn, utt2spk=utt2spkFile)\n",
    "\n",
    "feat.name"
   ]
  },
  {
   "cell_type": "markdown",
   "metadata": {},
   "source": [
    "We save this feature into file. In futher steps, it will be restoraged. ExKaldi bytes archives can be saved the same as Kaldi format files."
   ]
  },
  {
   "cell_type": "code",
   "execution_count": 13,
   "metadata": {},
   "outputs": [],
   "source": [
    "featFile = os.path.join(dataDir, \"exp\", \"train_mfcc_cmvn.ark\")\n",
    "\n",
    "exkaldi.utils.make_dependent_dirs(path=featFile, pathIsFile=True)\n",
    "\n",
    "featIndex = feat.save(featFile, returnIndexTable=True)\n",
    "\n",
    "#del feat"
   ]
  },
  {
   "cell_type": "markdown",
   "metadata": {},
   "source": [
    "If you appoint the option __returnIndexTable__ to be True, an __IndexTable__ object will be returned. As we introduced above, this is our second approach to discribe archives, __index table__. It plays almost the same role with original feature object. __IndexTable__ is a subclass of Python dict class, so you can view its data directly.\n",
    "\n",
    "When training a large corpus or using multiple processes, __IndexTable__ will become the main currency."
   ]
  },
  {
   "cell_type": "code",
   "execution_count": 14,
   "metadata": {},
   "outputs": [
    {
     "data": {
      "text/plain": [
       "{'103-1240-0000': IndexInfo(frames=1407, startIndex=0, dataSize=73193, filePath='librispeech_dummy/exp/train_mfcc_cmvn.ark'),\n",
       " '103-1240-0001': IndexInfo(frames=1593, startIndex=73193, dataSize=82865, filePath='librispeech_dummy/exp/train_mfcc_cmvn.ark'),\n",
       " '103-1240-0002': IndexInfo(frames=1393, startIndex=156058, dataSize=72465, filePath='librispeech_dummy/exp/train_mfcc_cmvn.ark'),\n",
       " '103-1240-0003': IndexInfo(frames=1469, startIndex=228523, dataSize=76417, filePath='librispeech_dummy/exp/train_mfcc_cmvn.ark'),\n",
       " '103-1240-0004': IndexInfo(frames=1250, startIndex=304940, dataSize=65029, filePath='librispeech_dummy/exp/train_mfcc_cmvn.ark'),\n",
       " '103-1240-0005': IndexInfo(frames=1516, startIndex=369969, dataSize=78861, filePath='librispeech_dummy/exp/train_mfcc_cmvn.ark'),\n",
       " '103-1240-0006': IndexInfo(frames=956, startIndex=448830, dataSize=49741, filePath='librispeech_dummy/exp/train_mfcc_cmvn.ark'),\n",
       " '103-1240-0007': IndexInfo(frames=1502, startIndex=498571, dataSize=78133, filePath='librispeech_dummy/exp/train_mfcc_cmvn.ark'),\n",
       " '103-1240-0008': IndexInfo(frames=1542, startIndex=576704, dataSize=80213, filePath='librispeech_dummy/exp/train_mfcc_cmvn.ark'),\n",
       " '103-1240-0009': IndexInfo(frames=1001, startIndex=656917, dataSize=52081, filePath='librispeech_dummy/exp/train_mfcc_cmvn.ark'),\n",
       " '103-1241-0000': IndexInfo(frames=1595, startIndex=708998, dataSize=82969, filePath='librispeech_dummy/exp/train_mfcc_cmvn.ark'),\n",
       " '103-1241-0001': IndexInfo(frames=1553, startIndex=791967, dataSize=80785, filePath='librispeech_dummy/exp/train_mfcc_cmvn.ark'),\n",
       " '103-1241-0002': IndexInfo(frames=1555, startIndex=872752, dataSize=80889, filePath='librispeech_dummy/exp/train_mfcc_cmvn.ark'),\n",
       " '103-1241-0003': IndexInfo(frames=1387, startIndex=953641, dataSize=72153, filePath='librispeech_dummy/exp/train_mfcc_cmvn.ark'),\n",
       " '103-1241-0004': IndexInfo(frames=1474, startIndex=1025794, dataSize=76677, filePath='librispeech_dummy/exp/train_mfcc_cmvn.ark'),\n",
       " '103-1241-0005': IndexInfo(frames=1401, startIndex=1102471, dataSize=72881, filePath='librispeech_dummy/exp/train_mfcc_cmvn.ark'),\n",
       " '103-1241-0006': IndexInfo(frames=1522, startIndex=1175352, dataSize=79173, filePath='librispeech_dummy/exp/train_mfcc_cmvn.ark'),\n",
       " '103-1241-0007': IndexInfo(frames=1513, startIndex=1254525, dataSize=78705, filePath='librispeech_dummy/exp/train_mfcc_cmvn.ark'),\n",
       " '103-1241-0008': IndexInfo(frames=1512, startIndex=1333230, dataSize=78653, filePath='librispeech_dummy/exp/train_mfcc_cmvn.ark'),\n",
       " '103-1241-0009': IndexInfo(frames=1388, startIndex=1411883, dataSize=72205, filePath='librispeech_dummy/exp/train_mfcc_cmvn.ark'),\n",
       " '1034-121119-0000': IndexInfo(frames=786, startIndex=1484088, dataSize=40904, filePath='librispeech_dummy/exp/train_mfcc_cmvn.ark'),\n",
       " '1034-121119-0001': IndexInfo(frames=1342, startIndex=1524992, dataSize=69816, filePath='librispeech_dummy/exp/train_mfcc_cmvn.ark'),\n",
       " '1034-121119-0002': IndexInfo(frames=1567, startIndex=1594808, dataSize=81516, filePath='librispeech_dummy/exp/train_mfcc_cmvn.ark'),\n",
       " '1034-121119-0003': IndexInfo(frames=1420, startIndex=1676324, dataSize=73872, filePath='librispeech_dummy/exp/train_mfcc_cmvn.ark'),\n",
       " '1034-121119-0004': IndexInfo(frames=919, startIndex=1750196, dataSize=47820, filePath='librispeech_dummy/exp/train_mfcc_cmvn.ark'),\n",
       " '1034-121119-0005': IndexInfo(frames=1071, startIndex=1798016, dataSize=55724, filePath='librispeech_dummy/exp/train_mfcc_cmvn.ark'),\n",
       " '1034-121119-0006': IndexInfo(frames=1398, startIndex=1853740, dataSize=72728, filePath='librispeech_dummy/exp/train_mfcc_cmvn.ark'),\n",
       " '1034-121119-0007': IndexInfo(frames=1367, startIndex=1926468, dataSize=71116, filePath='librispeech_dummy/exp/train_mfcc_cmvn.ark'),\n",
       " '1034-121119-0008': IndexInfo(frames=1508, startIndex=1997584, dataSize=78448, filePath='librispeech_dummy/exp/train_mfcc_cmvn.ark'),\n",
       " '1034-121119-0009': IndexInfo(frames=279, startIndex=2076032, dataSize=14540, filePath='librispeech_dummy/exp/train_mfcc_cmvn.ark'),\n",
       " '1040-133433-0000': IndexInfo(frames=1458, startIndex=2090572, dataSize=75848, filePath='librispeech_dummy/exp/train_mfcc_cmvn.ark'),\n",
       " '1040-133433-0001': IndexInfo(frames=1536, startIndex=2166420, dataSize=79904, filePath='librispeech_dummy/exp/train_mfcc_cmvn.ark'),\n",
       " '1040-133433-0002': IndexInfo(frames=1533, startIndex=2246324, dataSize=79748, filePath='librispeech_dummy/exp/train_mfcc_cmvn.ark'),\n",
       " '1040-133433-0003': IndexInfo(frames=1495, startIndex=2326072, dataSize=77772, filePath='librispeech_dummy/exp/train_mfcc_cmvn.ark'),\n",
       " '1040-133433-0004': IndexInfo(frames=1481, startIndex=2403844, dataSize=77044, filePath='librispeech_dummy/exp/train_mfcc_cmvn.ark'),\n",
       " '1040-133433-0005': IndexInfo(frames=1462, startIndex=2480888, dataSize=76056, filePath='librispeech_dummy/exp/train_mfcc_cmvn.ark'),\n",
       " '1040-133433-0006': IndexInfo(frames=318, startIndex=2556944, dataSize=16568, filePath='librispeech_dummy/exp/train_mfcc_cmvn.ark'),\n",
       " '1040-133433-0007': IndexInfo(frames=1205, startIndex=2573512, dataSize=62692, filePath='librispeech_dummy/exp/train_mfcc_cmvn.ark'),\n",
       " '1040-133433-0008': IndexInfo(frames=1503, startIndex=2636204, dataSize=78188, filePath='librispeech_dummy/exp/train_mfcc_cmvn.ark'),\n",
       " '1040-133433-0009': IndexInfo(frames=1505, startIndex=2714392, dataSize=78292, filePath='librispeech_dummy/exp/train_mfcc_cmvn.ark'),\n",
       " '1069-133699-0000': IndexInfo(frames=1561, startIndex=2792684, dataSize=81204, filePath='librispeech_dummy/exp/train_mfcc_cmvn.ark'),\n",
       " '1069-133699-0001': IndexInfo(frames=1585, startIndex=2873888, dataSize=82452, filePath='librispeech_dummy/exp/train_mfcc_cmvn.ark'),\n",
       " '1069-133699-0002': IndexInfo(frames=1467, startIndex=2956340, dataSize=76316, filePath='librispeech_dummy/exp/train_mfcc_cmvn.ark'),\n",
       " '1069-133699-0003': IndexInfo(frames=1444, startIndex=3032656, dataSize=75120, filePath='librispeech_dummy/exp/train_mfcc_cmvn.ark'),\n",
       " '1069-133699-0004': IndexInfo(frames=1370, startIndex=3107776, dataSize=71272, filePath='librispeech_dummy/exp/train_mfcc_cmvn.ark'),\n",
       " '1069-133699-0005': IndexInfo(frames=1065, startIndex=3179048, dataSize=55412, filePath='librispeech_dummy/exp/train_mfcc_cmvn.ark'),\n",
       " '1069-133699-0006': IndexInfo(frames=1450, startIndex=3234460, dataSize=75432, filePath='librispeech_dummy/exp/train_mfcc_cmvn.ark'),\n",
       " '1069-133699-0007': IndexInfo(frames=1250, startIndex=3309892, dataSize=65032, filePath='librispeech_dummy/exp/train_mfcc_cmvn.ark'),\n",
       " '1069-133699-0008': IndexInfo(frames=1591, startIndex=3374924, dataSize=82764, filePath='librispeech_dummy/exp/train_mfcc_cmvn.ark'),\n",
       " '1069-133699-0009': IndexInfo(frames=254, startIndex=3457688, dataSize=13240, filePath='librispeech_dummy/exp/train_mfcc_cmvn.ark'),\n",
       " '1069-133709-0000': IndexInfo(frames=1504, startIndex=3470928, dataSize=78240, filePath='librispeech_dummy/exp/train_mfcc_cmvn.ark'),\n",
       " '1069-133709-0001': IndexInfo(frames=1437, startIndex=3549168, dataSize=74756, filePath='librispeech_dummy/exp/train_mfcc_cmvn.ark'),\n",
       " '1069-133709-0002': IndexInfo(frames=1485, startIndex=3623924, dataSize=77252, filePath='librispeech_dummy/exp/train_mfcc_cmvn.ark'),\n",
       " '1069-133709-0003': IndexInfo(frames=375, startIndex=3701176, dataSize=19532, filePath='librispeech_dummy/exp/train_mfcc_cmvn.ark'),\n",
       " '1069-133709-0004': IndexInfo(frames=1473, startIndex=3720708, dataSize=76628, filePath='librispeech_dummy/exp/train_mfcc_cmvn.ark'),\n",
       " '1069-133709-0005': IndexInfo(frames=1178, startIndex=3797336, dataSize=61288, filePath='librispeech_dummy/exp/train_mfcc_cmvn.ark'),\n",
       " '1069-133709-0006': IndexInfo(frames=1480, startIndex=3858624, dataSize=76992, filePath='librispeech_dummy/exp/train_mfcc_cmvn.ark'),\n",
       " '1069-133709-0007': IndexInfo(frames=1532, startIndex=3935616, dataSize=79696, filePath='librispeech_dummy/exp/train_mfcc_cmvn.ark'),\n",
       " '1069-133709-0008': IndexInfo(frames=1572, startIndex=4015312, dataSize=81776, filePath='librispeech_dummy/exp/train_mfcc_cmvn.ark'),\n",
       " '1069-133709-0009': IndexInfo(frames=1278, startIndex=4097088, dataSize=66488, filePath='librispeech_dummy/exp/train_mfcc_cmvn.ark'),\n",
       " '1081-125237-0000': IndexInfo(frames=1032, startIndex=4163576, dataSize=53696, filePath='librispeech_dummy/exp/train_mfcc_cmvn.ark'),\n",
       " '1081-125237-0001': IndexInfo(frames=674, startIndex=4217272, dataSize=35080, filePath='librispeech_dummy/exp/train_mfcc_cmvn.ark'),\n",
       " '1081-125237-0002': IndexInfo(frames=1478, startIndex=4252352, dataSize=76888, filePath='librispeech_dummy/exp/train_mfcc_cmvn.ark'),\n",
       " '1081-125237-0003': IndexInfo(frames=516, startIndex=4329240, dataSize=26864, filePath='librispeech_dummy/exp/train_mfcc_cmvn.ark'),\n",
       " '1081-125237-0004': IndexInfo(frames=1046, startIndex=4356104, dataSize=54424, filePath='librispeech_dummy/exp/train_mfcc_cmvn.ark'),\n",
       " '1081-125237-0005': IndexInfo(frames=1258, startIndex=4410528, dataSize=65448, filePath='librispeech_dummy/exp/train_mfcc_cmvn.ark'),\n",
       " '1081-125237-0006': IndexInfo(frames=986, startIndex=4475976, dataSize=51304, filePath='librispeech_dummy/exp/train_mfcc_cmvn.ark'),\n",
       " '1081-125237-0007': IndexInfo(frames=1533, startIndex=4527280, dataSize=79748, filePath='librispeech_dummy/exp/train_mfcc_cmvn.ark'),\n",
       " '1081-125237-0008': IndexInfo(frames=1502, startIndex=4607028, dataSize=78136, filePath='librispeech_dummy/exp/train_mfcc_cmvn.ark'),\n",
       " '1081-125237-0009': IndexInfo(frames=254, startIndex=4685164, dataSize=13240, filePath='librispeech_dummy/exp/train_mfcc_cmvn.ark'),\n",
       " '1081-128618-0000': IndexInfo(frames=908, startIndex=4698404, dataSize=47248, filePath='librispeech_dummy/exp/train_mfcc_cmvn.ark'),\n",
       " '1081-128618-0001': IndexInfo(frames=560, startIndex=4745652, dataSize=29152, filePath='librispeech_dummy/exp/train_mfcc_cmvn.ark'),\n",
       " '1081-128618-0002': IndexInfo(frames=1543, startIndex=4774804, dataSize=80268, filePath='librispeech_dummy/exp/train_mfcc_cmvn.ark'),\n",
       " '1081-128618-0003': IndexInfo(frames=1562, startIndex=4855072, dataSize=81256, filePath='librispeech_dummy/exp/train_mfcc_cmvn.ark'),\n",
       " '1081-128618-0004': IndexInfo(frames=1347, startIndex=4936328, dataSize=70076, filePath='librispeech_dummy/exp/train_mfcc_cmvn.ark'),\n",
       " '1081-128618-0005': IndexInfo(frames=1168, startIndex=5006404, dataSize=60768, filePath='librispeech_dummy/exp/train_mfcc_cmvn.ark'),\n",
       " '1081-128618-0006': IndexInfo(frames=1131, startIndex=5067172, dataSize=58844, filePath='librispeech_dummy/exp/train_mfcc_cmvn.ark'),\n",
       " '1081-128618-0007': IndexInfo(frames=898, startIndex=5126016, dataSize=46728, filePath='librispeech_dummy/exp/train_mfcc_cmvn.ark'),\n",
       " '1081-128618-0008': IndexInfo(frames=1329, startIndex=5172744, dataSize=69140, filePath='librispeech_dummy/exp/train_mfcc_cmvn.ark'),\n",
       " '1081-128618-0009': IndexInfo(frames=1437, startIndex=5241884, dataSize=74756, filePath='librispeech_dummy/exp/train_mfcc_cmvn.ark'),\n",
       " '1088-129236-0000': IndexInfo(frames=983, startIndex=5316640, dataSize=51148, filePath='librispeech_dummy/exp/train_mfcc_cmvn.ark'),\n",
       " '1088-129236-0001': IndexInfo(frames=1527, startIndex=5367788, dataSize=79436, filePath='librispeech_dummy/exp/train_mfcc_cmvn.ark'),\n",
       " '1088-129236-0002': IndexInfo(frames=1590, startIndex=5447224, dataSize=82712, filePath='librispeech_dummy/exp/train_mfcc_cmvn.ark'),\n",
       " '1088-129236-0003': IndexInfo(frames=1675, startIndex=5529936, dataSize=87132, filePath='librispeech_dummy/exp/train_mfcc_cmvn.ark'),\n",
       " '1088-129236-0004': IndexInfo(frames=1079, startIndex=5617068, dataSize=56140, filePath='librispeech_dummy/exp/train_mfcc_cmvn.ark'),\n",
       " '1088-129236-0005': IndexInfo(frames=1301, startIndex=5673208, dataSize=67684, filePath='librispeech_dummy/exp/train_mfcc_cmvn.ark'),\n",
       " '1088-129236-0006': IndexInfo(frames=1119, startIndex=5740892, dataSize=58220, filePath='librispeech_dummy/exp/train_mfcc_cmvn.ark'),\n",
       " '1088-129236-0007': IndexInfo(frames=1248, startIndex=5799112, dataSize=64928, filePath='librispeech_dummy/exp/train_mfcc_cmvn.ark'),\n",
       " '1088-129236-0008': IndexInfo(frames=1444, startIndex=5864040, dataSize=75120, filePath='librispeech_dummy/exp/train_mfcc_cmvn.ark'),\n",
       " '1088-129236-0009': IndexInfo(frames=1354, startIndex=5939160, dataSize=70440, filePath='librispeech_dummy/exp/train_mfcc_cmvn.ark'),\n",
       " '1088-134315-0000': IndexInfo(frames=1602, startIndex=6009600, dataSize=83336, filePath='librispeech_dummy/exp/train_mfcc_cmvn.ark'),\n",
       " '1088-134315-0001': IndexInfo(frames=1522, startIndex=6092936, dataSize=79176, filePath='librispeech_dummy/exp/train_mfcc_cmvn.ark'),\n",
       " '1088-134315-0002': IndexInfo(frames=1257, startIndex=6172112, dataSize=65396, filePath='librispeech_dummy/exp/train_mfcc_cmvn.ark'),\n",
       " '1088-134315-0003': IndexInfo(frames=1176, startIndex=6237508, dataSize=61184, filePath='librispeech_dummy/exp/train_mfcc_cmvn.ark'),\n",
       " '1088-134315-0004': IndexInfo(frames=1343, startIndex=6298692, dataSize=69868, filePath='librispeech_dummy/exp/train_mfcc_cmvn.ark'),\n",
       " '1088-134315-0005': IndexInfo(frames=1205, startIndex=6368560, dataSize=62692, filePath='librispeech_dummy/exp/train_mfcc_cmvn.ark'),\n",
       " '1088-134315-0006': IndexInfo(frames=1517, startIndex=6431252, dataSize=78916, filePath='librispeech_dummy/exp/train_mfcc_cmvn.ark'),\n",
       " '1088-134315-0007': IndexInfo(frames=1407, startIndex=6510168, dataSize=73196, filePath='librispeech_dummy/exp/train_mfcc_cmvn.ark'),\n",
       " '1088-134315-0008': IndexInfo(frames=1523, startIndex=6583364, dataSize=79228, filePath='librispeech_dummy/exp/train_mfcc_cmvn.ark'),\n",
       " '1088-134315-0009': IndexInfo(frames=1261, startIndex=6662592, dataSize=65604, filePath='librispeech_dummy/exp/train_mfcc_cmvn.ark')}"
      ]
     },
     "execution_count": 14,
     "metadata": {},
     "output_type": "execute_result"
    }
   ],
   "source": [
    "featIndex"
   ]
  },
  {
   "cell_type": "markdown",
   "metadata": {},
   "source": [
    "Of cause, original archives can also be loaded into memory again. For example, feature can be loaded from Kaldi binary archive file (__.ark__ file) or script table file (__.scp__).\n",
    "\n",
    "Particularly, we can fetch the data via index table directly."
   ]
  },
  {
   "cell_type": "code",
   "execution_count": 15,
   "metadata": {},
   "outputs": [
    {
     "data": {
      "text/plain": [
       "<exkaldi.core.archive.BytesFeat at 0x7f2e67fccca0>"
      ]
     },
     "execution_count": 15,
     "metadata": {},
     "output_type": "execute_result"
    }
   ],
   "source": [
    "feat = featIndex.fetch(arkType=\"feat\")\n",
    "del featIndex\n",
    "\n",
    "feat"
   ]
  },
  {
   "cell_type": "markdown",
   "metadata": {},
   "source": [
    "All Bytes archives can be transformed to __Numpy__ format. So If you want to train NN acoustic model with Tensorflow or others, you can use the Numpy format data."
   ]
  },
  {
   "cell_type": "code",
   "execution_count": 16,
   "metadata": {},
   "outputs": [
    {
     "data": {
      "text/plain": [
       "<exkaldi.core.archive.NumpyFeat at 0x7f2e67d72640>"
      ]
     },
     "execution_count": 16,
     "metadata": {},
     "output_type": "execute_result"
    }
   ],
   "source": [
    "feat = feat.to_numpy()\n",
    "\n",
    "feat"
   ]
  },
  {
   "cell_type": "markdown",
   "metadata": {},
   "source": [
    "by calling __.to_numpy()__ function, ___feat___ became an exkaldi __NumpyFeat__ object, it has some fimiliar attributes and methods with __BytesFeat__, but also has own properties. Let's skip the details here.\n",
    "\n",
    "This is the third way to discribe archives: __Numpy Array__. __NumpyFeat__ is one of Numpy archives classes.\n",
    "\n",
    "Here we will introduce some methods to use its data."
   ]
  },
  {
   "cell_type": "code",
   "execution_count": 17,
   "metadata": {},
   "outputs": [],
   "source": [
    "sampleFeat = feat.subset(nHead=2)"
   ]
  },
  {
   "cell_type": "markdown",
   "metadata": {},
   "source": [
    "1. use __.data__ to get the dict object whose keys are utterance IDs and values are data arrays."
   ]
  },
  {
   "cell_type": "code",
   "execution_count": 18,
   "metadata": {},
   "outputs": [
    {
     "data": {
      "text/plain": [
       "{'103-1240-0000': array([[ -2.254528  ,  -3.344388  ,   8.894275  , ...,   2.5323038 ,\n",
       "           6.9771852 ,   3.545384  ],\n",
       "        [ -2.2711601 ,  -3.6887007 ,   8.395479  , ...,  -2.0043678 ,\n",
       "           2.486678  ,   7.0842047 ],\n",
       "        [ -2.2453518 ,  -2.678547  ,  12.083347  , ...,  -0.5561874 ,\n",
       "           4.9453325 ,   3.957767  ],\n",
       "        ...,\n",
       "        [ -1.5548878 , -16.208216  , -15.402991  , ...,  -5.0331793 ,\n",
       "          22.171038  ,   4.512825  ],\n",
       "        [ -1.6056385 , -18.538912  , -13.540999  , ...,  -1.7717261 ,\n",
       "          10.223823  ,  -1.9313327 ],\n",
       "        [ -1.6158581 , -17.09361   , -12.508477  , ...,  -0.69831765,\n",
       "           8.234857  ,   2.7844687 ]], dtype=float32),\n",
       " '103-1240-0001': array([[ -1.5342865, -13.794619 , -11.781871 , ...,   7.934154 ,\n",
       "          11.860016 ,  -3.388668 ],\n",
       "        [ -1.6354351, -16.402199 , -14.878404 , ...,  -4.1155005,\n",
       "          10.174247 ,  -4.190131 ],\n",
       "        [ -1.8280525, -11.93771  ,  -9.464145 , ...,  -2.257836 ,\n",
       "          18.10266  ,  -2.389845 ],\n",
       "        ...,\n",
       "        [ -1.7905445, -11.627689 , -13.441224 , ..., -14.445599 ,\n",
       "          18.725203 ,   7.407647 ],\n",
       "        [ -1.841589 , -11.904787 , -15.7515955, ...,   3.0876908,\n",
       "          23.338274 ,  14.336078 ],\n",
       "        [ -1.8865223, -15.206522 , -20.759579 , ...,  -6.543976 ,\n",
       "          20.358257 ,   7.216976 ]], dtype=float32)}"
      ]
     },
     "execution_count": 18,
     "metadata": {},
     "output_type": "execute_result"
    }
   ],
   "source": [
    "sampleFeat.data"
   ]
  },
  {
   "cell_type": "markdown",
   "metadata": {},
   "source": [
    "2. use __.array__ get the arrays only."
   ]
  },
  {
   "cell_type": "code",
   "execution_count": 19,
   "metadata": {},
   "outputs": [
    {
     "data": {
      "text/plain": [
       "[array([[ -2.254528  ,  -3.344388  ,   8.894275  , ...,   2.5323038 ,\n",
       "           6.9771852 ,   3.545384  ],\n",
       "        [ -2.2711601 ,  -3.6887007 ,   8.395479  , ...,  -2.0043678 ,\n",
       "           2.486678  ,   7.0842047 ],\n",
       "        [ -2.2453518 ,  -2.678547  ,  12.083347  , ...,  -0.5561874 ,\n",
       "           4.9453325 ,   3.957767  ],\n",
       "        ...,\n",
       "        [ -1.5548878 , -16.208216  , -15.402991  , ...,  -5.0331793 ,\n",
       "          22.171038  ,   4.512825  ],\n",
       "        [ -1.6056385 , -18.538912  , -13.540999  , ...,  -1.7717261 ,\n",
       "          10.223823  ,  -1.9313327 ],\n",
       "        [ -1.6158581 , -17.09361   , -12.508477  , ...,  -0.69831765,\n",
       "           8.234857  ,   2.7844687 ]], dtype=float32),\n",
       " array([[ -1.5342865, -13.794619 , -11.781871 , ...,   7.934154 ,\n",
       "          11.860016 ,  -3.388668 ],\n",
       "        [ -1.6354351, -16.402199 , -14.878404 , ...,  -4.1155005,\n",
       "          10.174247 ,  -4.190131 ],\n",
       "        [ -1.8280525, -11.93771  ,  -9.464145 , ...,  -2.257836 ,\n",
       "          18.10266  ,  -2.389845 ],\n",
       "        ...,\n",
       "        [ -1.7905445, -11.627689 , -13.441224 , ..., -14.445599 ,\n",
       "          18.725203 ,   7.407647 ],\n",
       "        [ -1.841589 , -11.904787 , -15.7515955, ...,   3.0876908,\n",
       "          23.338274 ,  14.336078 ],\n",
       "        [ -1.8865223, -15.206522 , -20.759579 , ...,  -6.543976 ,\n",
       "          20.358257 ,   7.216976 ]], dtype=float32)]"
      ]
     },
     "execution_count": 19,
     "metadata": {},
     "output_type": "execute_result"
    }
   ],
   "source": [
    "sampleFeat.array"
   ]
  },
  {
   "cell_type": "markdown",
   "metadata": {},
   "source": [
    "3. use getitem function to get a specified utterance."
   ]
  },
  {
   "cell_type": "code",
   "execution_count": 20,
   "metadata": {},
   "outputs": [
    {
     "data": {
      "text/plain": [
       "array([[ -2.254528  ,  -3.344388  ,   8.894275  , ...,   2.5323038 ,\n",
       "          6.9771852 ,   3.545384  ],\n",
       "       [ -2.2711601 ,  -3.6887007 ,   8.395479  , ...,  -2.0043678 ,\n",
       "          2.486678  ,   7.0842047 ],\n",
       "       [ -2.2453518 ,  -2.678547  ,  12.083347  , ...,  -0.5561874 ,\n",
       "          4.9453325 ,   3.957767  ],\n",
       "       ...,\n",
       "       [ -1.5548878 , -16.208216  , -15.402991  , ...,  -5.0331793 ,\n",
       "         22.171038  ,   4.512825  ],\n",
       "       [ -1.6056385 , -18.538912  , -13.540999  , ...,  -1.7717261 ,\n",
       "         10.223823  ,  -1.9313327 ],\n",
       "       [ -1.6158581 , -17.09361   , -12.508477  , ...,  -0.69831765,\n",
       "          8.234857  ,   2.7844687 ]], dtype=float32)"
      ]
     },
     "execution_count": 20,
     "metadata": {},
     "output_type": "execute_result"
    }
   ],
   "source": [
    "sampleFeat['103-1240-0000']"
   ]
  },
  {
   "cell_type": "markdown",
   "metadata": {},
   "source": [
    "4. like dict object, __.keys()__,__.values()__,__.items()__ are availabel to iterate it."
   ]
  },
  {
   "cell_type": "code",
   "execution_count": 21,
   "metadata": {},
   "outputs": [
    {
     "name": "stdout",
     "output_type": "stream",
     "text": [
      "(1407, 13)\n",
      "(1593, 13)\n"
     ]
    }
   ],
   "source": [
    "for key in sampleFeat.keys():\n",
    "    print( sampleFeat[key].shape )"
   ]
  },
  {
   "cell_type": "markdown",
   "metadata": {},
   "source": [
    "5. setitem is also available only if you set the array with right format."
   ]
  },
  {
   "cell_type": "code",
   "execution_count": 22,
   "metadata": {},
   "outputs": [],
   "source": [
    "sampleFeat['103-1240-0000'] *= 2"
   ]
  },
  {
   "cell_type": "code",
   "execution_count": 23,
   "metadata": {},
   "outputs": [
    {
     "data": {
      "text/plain": [
       "array([[ -4.509056 ,  -6.688776 ,  17.78855  , ...,   5.0646076,\n",
       "         13.9543705,   7.090768 ],\n",
       "       [ -4.5423203,  -7.3774014,  16.790958 , ...,  -4.0087357,\n",
       "          4.973356 ,  14.168409 ],\n",
       "       [ -4.4907036,  -5.357094 ,  24.166695 , ...,  -1.1123748,\n",
       "          9.890665 ,   7.915534 ],\n",
       "       ...,\n",
       "       [ -3.1097755, -32.41643  , -30.805983 , ..., -10.066359 ,\n",
       "         44.342075 ,   9.02565  ],\n",
       "       [ -3.211277 , -37.077824 , -27.081999 , ...,  -3.5434523,\n",
       "         20.447645 ,  -3.8626654],\n",
       "       [ -3.2317162, -34.18722  , -25.016954 , ...,  -1.3966353,\n",
       "         16.469713 ,   5.5689373]], dtype=float32)"
      ]
     },
     "execution_count": 23,
     "metadata": {},
     "output_type": "execute_result"
    }
   ],
   "source": [
    "sampleFeat['103-1240-0000']"
   ]
  },
  {
   "cell_type": "code",
   "execution_count": 24,
   "metadata": {},
   "outputs": [],
   "source": [
    "del sampleFeat"
   ]
  },
  {
   "cell_type": "markdown",
   "metadata": {},
   "source": [
    "Similarly, ExKaldi Numpy archives can be transformed back to bytes archives easily. "
   ]
  },
  {
   "cell_type": "code",
   "execution_count": 25,
   "metadata": {},
   "outputs": [
    {
     "data": {
      "text/plain": [
       "<exkaldi.core.archive.BytesFeat at 0x7f2e67c2fa90>"
      ]
     },
     "execution_count": 25,
     "metadata": {},
     "output_type": "execute_result"
    }
   ],
   "source": [
    "tempFeat = feat.to_bytes()\n",
    "\n",
    "tempFeat"
   ]
  },
  {
   "cell_type": "code",
   "execution_count": 26,
   "metadata": {},
   "outputs": [],
   "source": [
    "del tempFeat"
   ]
  },
  {
   "cell_type": "markdown",
   "metadata": {},
   "source": [
    "Numpy data can also be saved to .npy file with a specified format."
   ]
  },
  {
   "cell_type": "code",
   "execution_count": 27,
   "metadata": {},
   "outputs": [
    {
     "name": "stderr",
     "output_type": "stream",
     "text": [
      "/home/khanh/workspace/miniconda3/envs/test/lib/python3.9/site-packages/numpy/lib/npyio.py:501: VisibleDeprecationWarning: Creating an ndarray from ragged nested sequences (which is a list-or-tuple of lists-or-tuples-or ndarrays with different lengths or shapes) is deprecated. If you meant to do this, you must specify 'dtype=object' when creating the ndarray.\n",
      "  arr = np.asanyarray(arr)\n"
     ]
    },
    {
     "data": {
      "text/plain": [
       "'librispeech_dummy/exp/temp_mfcc.npy'"
      ]
     },
     "execution_count": 27,
     "metadata": {},
     "output_type": "execute_result"
    }
   ],
   "source": [
    "tempFile = os.path.join(dataDir, \"exp\", \"temp_mfcc.npy\")\n",
    "\n",
    "feat.save(tempFile)"
   ]
  },
  {
   "cell_type": "code",
   "execution_count": 28,
   "metadata": {},
   "outputs": [],
   "source": [
    "del feat"
   ]
  },
  {
   "cell_type": "markdown",
   "metadata": {},
   "source": [
    "And it can also be restorage into memory again."
   ]
  },
  {
   "cell_type": "code",
   "execution_count": 29,
   "metadata": {},
   "outputs": [
    {
     "data": {
      "text/plain": [
       "<exkaldi.core.archive.NumpyFeat at 0x7f2e67a8ff40>"
      ]
     },
     "execution_count": 29,
     "metadata": {},
     "output_type": "execute_result"
    }
   ],
   "source": [
    "feat = exkaldi.load_feat(tempFile, name=\"mfcc\")\n",
    "\n",
    "feat"
   ]
  },
  {
   "cell_type": "code",
   "execution_count": 30,
   "metadata": {},
   "outputs": [
    {
     "data": {
      "text/plain": [
       "<exkaldi.core.archive.NumpyFeat at 0x7f2e67a8ff40>"
      ]
     },
     "execution_count": 30,
     "metadata": {},
     "output_type": "execute_result"
    }
   ],
   "source": [
    "feat"
   ]
  },
  {
   "cell_type": "markdown",
   "metadata": {},
   "source": [
    "Besides __NumpyFeat__ class, these classes hold Kaldi archives in Numpy format.\n",
    "\n",
    "__NumpyCMVN__: to hold CMVN statistics data.  \n",
    "__NumpyProb__:  to hold NN output data.  \n",
    "__NumpyAli__:  to hold Users' own Alignment data.  \n",
    "__NumpyAliTrans__:  to hold Transition-ID alignment.  \n",
    "__NumpyAliPhone__:  to hold Phone-ID alignment.  \n",
    "__NumpyAliPdf__:  to hold Pdf-ID alignment.  \n",
    "__NumpyFmllr__:  to hold fmllr transform matrices.  \n",
    "\n",
    "They have similar properties as __NumpyFeat__. We will introduce them in the next steps."
   ]
  },
  {
   "cell_type": "code",
   "execution_count": null,
   "metadata": {},
   "outputs": [],
   "source": []
  }
 ],
 "metadata": {
  "kernelspec": {
   "display_name": "Python 3 (ipykernel)",
   "language": "python",
   "name": "python3"
  },
  "language_info": {
   "codemirror_mode": {
    "name": "ipython",
    "version": 3
   },
   "file_extension": ".py",
   "mimetype": "text/x-python",
   "name": "python",
   "nbconvert_exporter": "python",
   "pygments_lexer": "ipython3",
   "version": "3.9.10"
  }
 },
 "nbformat": 4,
 "nbformat_minor": 4
}
